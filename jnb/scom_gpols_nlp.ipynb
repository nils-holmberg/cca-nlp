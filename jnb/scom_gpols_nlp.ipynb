{
  "cells": [
    {
      "cell_type": "code",
      "source": [
        "!pip install -q siuba plotnine"
      ],
      "metadata": {
        "id": "x-mPtMylSMZS"
      },
      "execution_count": null,
      "outputs": []
    },
    {
      "cell_type": "code",
      "execution_count": null,
      "metadata": {
        "colab": {
          "base_uri": "https://localhost:8080/",
          "height": 206
        },
        "id": "FNBxb8pHQMnq",
        "outputId": "94829c53-186b-4729-fa64-c6151012c2c8"
      },
      "outputs": [
        {
          "output_type": "execute_result",
          "data": {
            "text/plain": [
              "                                          image    id  \\\n",
              "0         aline_lessner-higher_education-4185-7  4185   \n",
              "1                 aline_lessner-students-4782-7  4782   \n",
              "2                 aline_lessner-students-4783-7  4783   \n",
              "3        anna_sigge-fashion_from_forests-6404-7  6404   \n",
              "4  ann-sofi_rosenkvist-children_on_bikes-4910-7  4910   \n",
              "\n",
              "                                                text  \n",
              "0  Several Swedish universities place high in Eur...  \n",
              "1  Several Swedish universities place high in Eur...  \n",
              "2  Several Swedish universities place high in Eur...  \n",
              "3  Knitted dress made of 100 per cent paper from ...  \n",
              "4  Learning to ride a bike is something you&#039;...  "
            ],
            "text/html": [
              "\n",
              "  <div id=\"df-889c5db4-27f4-46b5-8cc3-563643f35c87\" class=\"colab-df-container\">\n",
              "    <div>\n",
              "<style scoped>\n",
              "    .dataframe tbody tr th:only-of-type {\n",
              "        vertical-align: middle;\n",
              "    }\n",
              "\n",
              "    .dataframe tbody tr th {\n",
              "        vertical-align: top;\n",
              "    }\n",
              "\n",
              "    .dataframe thead th {\n",
              "        text-align: right;\n",
              "    }\n",
              "</style>\n",
              "<table border=\"1\" class=\"dataframe\">\n",
              "  <thead>\n",
              "    <tr style=\"text-align: right;\">\n",
              "      <th></th>\n",
              "      <th>image</th>\n",
              "      <th>id</th>\n",
              "      <th>text</th>\n",
              "    </tr>\n",
              "  </thead>\n",
              "  <tbody>\n",
              "    <tr>\n",
              "      <th>0</th>\n",
              "      <td>aline_lessner-higher_education-4185-7</td>\n",
              "      <td>4185</td>\n",
              "      <td>Several Swedish universities place high in Eur...</td>\n",
              "    </tr>\n",
              "    <tr>\n",
              "      <th>1</th>\n",
              "      <td>aline_lessner-students-4782-7</td>\n",
              "      <td>4782</td>\n",
              "      <td>Several Swedish universities place high in Eur...</td>\n",
              "    </tr>\n",
              "    <tr>\n",
              "      <th>2</th>\n",
              "      <td>aline_lessner-students-4783-7</td>\n",
              "      <td>4783</td>\n",
              "      <td>Several Swedish universities place high in Eur...</td>\n",
              "    </tr>\n",
              "    <tr>\n",
              "      <th>3</th>\n",
              "      <td>anna_sigge-fashion_from_forests-6404-7</td>\n",
              "      <td>6404</td>\n",
              "      <td>Knitted dress made of 100 per cent paper from ...</td>\n",
              "    </tr>\n",
              "    <tr>\n",
              "      <th>4</th>\n",
              "      <td>ann-sofi_rosenkvist-children_on_bikes-4910-7</td>\n",
              "      <td>4910</td>\n",
              "      <td>Learning to ride a bike is something you&amp;#039;...</td>\n",
              "    </tr>\n",
              "  </tbody>\n",
              "</table>\n",
              "</div>\n",
              "    <div class=\"colab-df-buttons\">\n",
              "\n",
              "  <div class=\"colab-df-container\">\n",
              "    <button class=\"colab-df-convert\" onclick=\"convertToInteractive('df-889c5db4-27f4-46b5-8cc3-563643f35c87')\"\n",
              "            title=\"Convert this dataframe to an interactive table.\"\n",
              "            style=\"display:none;\">\n",
              "\n",
              "  <svg xmlns=\"http://www.w3.org/2000/svg\" height=\"24px\" viewBox=\"0 -960 960 960\">\n",
              "    <path d=\"M120-120v-720h720v720H120Zm60-500h600v-160H180v160Zm220 220h160v-160H400v160Zm0 220h160v-160H400v160ZM180-400h160v-160H180v160Zm440 0h160v-160H620v160ZM180-180h160v-160H180v160Zm440 0h160v-160H620v160Z\"/>\n",
              "  </svg>\n",
              "    </button>\n",
              "\n",
              "  <style>\n",
              "    .colab-df-container {\n",
              "      display:flex;\n",
              "      gap: 12px;\n",
              "    }\n",
              "\n",
              "    .colab-df-convert {\n",
              "      background-color: #E8F0FE;\n",
              "      border: none;\n",
              "      border-radius: 50%;\n",
              "      cursor: pointer;\n",
              "      display: none;\n",
              "      fill: #1967D2;\n",
              "      height: 32px;\n",
              "      padding: 0 0 0 0;\n",
              "      width: 32px;\n",
              "    }\n",
              "\n",
              "    .colab-df-convert:hover {\n",
              "      background-color: #E2EBFA;\n",
              "      box-shadow: 0px 1px 2px rgba(60, 64, 67, 0.3), 0px 1px 3px 1px rgba(60, 64, 67, 0.15);\n",
              "      fill: #174EA6;\n",
              "    }\n",
              "\n",
              "    .colab-df-buttons div {\n",
              "      margin-bottom: 4px;\n",
              "    }\n",
              "\n",
              "    [theme=dark] .colab-df-convert {\n",
              "      background-color: #3B4455;\n",
              "      fill: #D2E3FC;\n",
              "    }\n",
              "\n",
              "    [theme=dark] .colab-df-convert:hover {\n",
              "      background-color: #434B5C;\n",
              "      box-shadow: 0px 1px 3px 1px rgba(0, 0, 0, 0.15);\n",
              "      filter: drop-shadow(0px 1px 2px rgba(0, 0, 0, 0.3));\n",
              "      fill: #FFFFFF;\n",
              "    }\n",
              "  </style>\n",
              "\n",
              "    <script>\n",
              "      const buttonEl =\n",
              "        document.querySelector('#df-889c5db4-27f4-46b5-8cc3-563643f35c87 button.colab-df-convert');\n",
              "      buttonEl.style.display =\n",
              "        google.colab.kernel.accessAllowed ? 'block' : 'none';\n",
              "\n",
              "      async function convertToInteractive(key) {\n",
              "        const element = document.querySelector('#df-889c5db4-27f4-46b5-8cc3-563643f35c87');\n",
              "        const dataTable =\n",
              "          await google.colab.kernel.invokeFunction('convertToInteractive',\n",
              "                                                    [key], {});\n",
              "        if (!dataTable) return;\n",
              "\n",
              "        const docLinkHtml = 'Like what you see? Visit the ' +\n",
              "          '<a target=\"_blank\" href=https://colab.research.google.com/notebooks/data_table.ipynb>data table notebook</a>'\n",
              "          + ' to learn more about interactive tables.';\n",
              "        element.innerHTML = '';\n",
              "        dataTable['output_type'] = 'display_data';\n",
              "        await google.colab.output.renderOutput(dataTable, element);\n",
              "        const docLink = document.createElement('div');\n",
              "        docLink.innerHTML = docLinkHtml;\n",
              "        element.appendChild(docLink);\n",
              "      }\n",
              "    </script>\n",
              "  </div>\n",
              "\n",
              "\n",
              "<div id=\"df-a96fa6a1-1472-4f17-8485-588de25f9e99\">\n",
              "  <button class=\"colab-df-quickchart\" onclick=\"quickchart('df-a96fa6a1-1472-4f17-8485-588de25f9e99')\"\n",
              "            title=\"Suggest charts.\"\n",
              "            style=\"display:none;\">\n",
              "\n",
              "<svg xmlns=\"http://www.w3.org/2000/svg\" height=\"24px\"viewBox=\"0 0 24 24\"\n",
              "     width=\"24px\">\n",
              "    <g>\n",
              "        <path d=\"M19 3H5c-1.1 0-2 .9-2 2v14c0 1.1.9 2 2 2h14c1.1 0 2-.9 2-2V5c0-1.1-.9-2-2-2zM9 17H7v-7h2v7zm4 0h-2V7h2v10zm4 0h-2v-4h2v4z\"/>\n",
              "    </g>\n",
              "</svg>\n",
              "  </button>\n",
              "\n",
              "<style>\n",
              "  .colab-df-quickchart {\n",
              "      --bg-color: #E8F0FE;\n",
              "      --fill-color: #1967D2;\n",
              "      --hover-bg-color: #E2EBFA;\n",
              "      --hover-fill-color: #174EA6;\n",
              "      --disabled-fill-color: #AAA;\n",
              "      --disabled-bg-color: #DDD;\n",
              "  }\n",
              "\n",
              "  [theme=dark] .colab-df-quickchart {\n",
              "      --bg-color: #3B4455;\n",
              "      --fill-color: #D2E3FC;\n",
              "      --hover-bg-color: #434B5C;\n",
              "      --hover-fill-color: #FFFFFF;\n",
              "      --disabled-bg-color: #3B4455;\n",
              "      --disabled-fill-color: #666;\n",
              "  }\n",
              "\n",
              "  .colab-df-quickchart {\n",
              "    background-color: var(--bg-color);\n",
              "    border: none;\n",
              "    border-radius: 50%;\n",
              "    cursor: pointer;\n",
              "    display: none;\n",
              "    fill: var(--fill-color);\n",
              "    height: 32px;\n",
              "    padding: 0;\n",
              "    width: 32px;\n",
              "  }\n",
              "\n",
              "  .colab-df-quickchart:hover {\n",
              "    background-color: var(--hover-bg-color);\n",
              "    box-shadow: 0 1px 2px rgba(60, 64, 67, 0.3), 0 1px 3px 1px rgba(60, 64, 67, 0.15);\n",
              "    fill: var(--button-hover-fill-color);\n",
              "  }\n",
              "\n",
              "  .colab-df-quickchart-complete:disabled,\n",
              "  .colab-df-quickchart-complete:disabled:hover {\n",
              "    background-color: var(--disabled-bg-color);\n",
              "    fill: var(--disabled-fill-color);\n",
              "    box-shadow: none;\n",
              "  }\n",
              "\n",
              "  .colab-df-spinner {\n",
              "    border: 2px solid var(--fill-color);\n",
              "    border-color: transparent;\n",
              "    border-bottom-color: var(--fill-color);\n",
              "    animation:\n",
              "      spin 1s steps(1) infinite;\n",
              "  }\n",
              "\n",
              "  @keyframes spin {\n",
              "    0% {\n",
              "      border-color: transparent;\n",
              "      border-bottom-color: var(--fill-color);\n",
              "      border-left-color: var(--fill-color);\n",
              "    }\n",
              "    20% {\n",
              "      border-color: transparent;\n",
              "      border-left-color: var(--fill-color);\n",
              "      border-top-color: var(--fill-color);\n",
              "    }\n",
              "    30% {\n",
              "      border-color: transparent;\n",
              "      border-left-color: var(--fill-color);\n",
              "      border-top-color: var(--fill-color);\n",
              "      border-right-color: var(--fill-color);\n",
              "    }\n",
              "    40% {\n",
              "      border-color: transparent;\n",
              "      border-right-color: var(--fill-color);\n",
              "      border-top-color: var(--fill-color);\n",
              "    }\n",
              "    60% {\n",
              "      border-color: transparent;\n",
              "      border-right-color: var(--fill-color);\n",
              "    }\n",
              "    80% {\n",
              "      border-color: transparent;\n",
              "      border-right-color: var(--fill-color);\n",
              "      border-bottom-color: var(--fill-color);\n",
              "    }\n",
              "    90% {\n",
              "      border-color: transparent;\n",
              "      border-bottom-color: var(--fill-color);\n",
              "    }\n",
              "  }\n",
              "</style>\n",
              "\n",
              "  <script>\n",
              "    async function quickchart(key) {\n",
              "      const quickchartButtonEl =\n",
              "        document.querySelector('#' + key + ' button');\n",
              "      quickchartButtonEl.disabled = true;  // To prevent multiple clicks.\n",
              "      quickchartButtonEl.classList.add('colab-df-spinner');\n",
              "      try {\n",
              "        const charts = await google.colab.kernel.invokeFunction(\n",
              "            'suggestCharts', [key], {});\n",
              "      } catch (error) {\n",
              "        console.error('Error during call to suggestCharts:', error);\n",
              "      }\n",
              "      quickchartButtonEl.classList.remove('colab-df-spinner');\n",
              "      quickchartButtonEl.classList.add('colab-df-quickchart-complete');\n",
              "    }\n",
              "    (() => {\n",
              "      let quickchartButtonEl =\n",
              "        document.querySelector('#df-a96fa6a1-1472-4f17-8485-588de25f9e99 button');\n",
              "      quickchartButtonEl.style.display =\n",
              "        google.colab.kernel.accessAllowed ? 'block' : 'none';\n",
              "    })();\n",
              "  </script>\n",
              "</div>\n",
              "    </div>\n",
              "  </div>\n"
            ]
          },
          "metadata": {},
          "execution_count": 2
        }
      ],
      "source": [
        "#| echo: true\n",
        "#| output: true\n",
        "\n",
        "import numpy as np\n",
        "import pandas as pd\n",
        "#pd.set_option(\"display.max_rows\", 10)\n",
        "#from tabulate import tabulate\n",
        "import siuba as si\n",
        "import plotnine as p9\n",
        "import seaborn as sns\n",
        "import matplotlib.pyplot as plt\n",
        "%matplotlib inline\n",
        "\n",
        "# plotnine theme\n",
        "some_theme = p9.theme_dark() + p9.theme(\n",
        "    text=p9.element_text(face=\"bold\", size=20),\n",
        "    plot_background=p9.element_rect(fill='gray', colour='black')\n",
        ")\n",
        "\n",
        "# read csv\n",
        "#df = pd.read_csv(\"~/dev/ccg-web/csv/scom-gpols.csv\", sep=\"\\t\", header=0)\n",
        "#df = pd.read_csv(\"scom-gpols.csv\", sep=\"\\t\", header=0)\n",
        "df = pd.read_csv(\"https://raw.githubusercontent.com/nils-holmberg/ccg-web/main/csv/scom-gpols.csv\", sep=\"\\t\", header=0)\n",
        "\n",
        "#list(df.columns)\n",
        "df.head()"
      ]
    },
    {
      "cell_type": "code",
      "source": [
        "import re\n",
        "from pprint import pprint"
      ],
      "metadata": {
        "id": "1HVjbQI_VG5N"
      },
      "execution_count": null,
      "outputs": []
    },
    {
      "cell_type": "code",
      "source": [
        "pprint(df['text'][0])"
      ],
      "metadata": {
        "colab": {
          "base_uri": "https://localhost:8080/"
        },
        "id": "CTtZoCqciGBe",
        "outputId": "f3309882-6417-4462-c27d-2365e48f5043"
      },
      "execution_count": null,
      "outputs": [
        {
          "output_type": "stream",
          "name": "stdout",
          "text": [
            "('Several Swedish universities place high in European rankings, and their '\n",
            " 'research has contributed to the global success of Sweden’s many high-tech '\n",
            " 'companies. Many Master&#039;s programmes are taught in English, and '\n",
            " 'scholarships are available for international students. More than 20,000 '\n",
            " 'foreign students are studying in Sweden, making for a vibrant, international '\n",
            " 'study environment. A good part of their social life revolves around their '\n",
            " 'student union. The union can often help you with finding accommodation and '\n",
            " 'other practical matters. Relations between students and teachers are highly '\n",
            " 'informal. Personal initiative and independent thinking are prized. Students '\n",
            " 'are required to take an active role and contribute with opinions and ideas '\n",
            " 'at lectures, seminars and in group discussions. Taking the initiative and '\n",
            " 'questioning old presumptions is rewarding, especially in the long term. Many '\n",
            " 'programmes also cooperate closely with industry.')\n"
          ]
        }
      ]
    },
    {
      "cell_type": "code",
      "source": [
        "# Run in python console\n",
        "import nltk\n",
        "nltk.download('stopwords')\n",
        "\n",
        "# NLTK Stop words\n",
        "from nltk.corpus import stopwords\n",
        "stop_words = stopwords.words('english')\n",
        "stop_words.extend(['from', 'subject', 're', 'edu', 'use'])"
      ],
      "metadata": {
        "colab": {
          "base_uri": "https://localhost:8080/"
        },
        "id": "tzapF5c-euLS",
        "outputId": "06aa6ee5-58da-4be3-8f11-ff5ba638a236"
      },
      "execution_count": null,
      "outputs": [
        {
          "output_type": "stream",
          "name": "stderr",
          "text": [
            "[nltk_data] Downloading package stopwords to /root/nltk_data...\n",
            "[nltk_data]   Package stopwords is already up-to-date!\n"
          ]
        }
      ]
    },
    {
      "cell_type": "code",
      "source": [
        "# spacy for nlp analysis\n",
        "import spacy\n",
        "# Run in terminal or command prompt\n",
        "!python3 -m spacy download en_core_web_sm\n",
        "# Initialize spacy 'en' model, keeping only tagger component (for efficiency)\n",
        "# python3 -m spacy download en\n",
        "nlp = spacy.load('en_core_web_sm')#, disable=['parser', 'ner'])"
      ],
      "metadata": {
        "id": "EPaergsKdpd2",
        "colab": {
          "base_uri": "https://localhost:8080/"
        },
        "outputId": "112455e6-9a2d-4598-c487-d5581e2143e8"
      },
      "execution_count": null,
      "outputs": [
        {
          "output_type": "stream",
          "name": "stdout",
          "text": [
            "2023-09-15 11:48:37.254450: W tensorflow/compiler/tf2tensorrt/utils/py_utils.cc:38] TF-TRT Warning: Could not find TensorRT\n",
            "Collecting en-core-web-sm==3.6.0\n",
            "  Downloading https://github.com/explosion/spacy-models/releases/download/en_core_web_sm-3.6.0/en_core_web_sm-3.6.0-py3-none-any.whl (12.8 MB)\n",
            "\u001b[2K     \u001b[90m━━━━━━━━━━━━━━━━━━━━━━━━━━━━━━━━━━━━━━━━\u001b[0m \u001b[32m12.8/12.8 MB\u001b[0m \u001b[31m34.4 MB/s\u001b[0m eta \u001b[36m0:00:00\u001b[0m\n",
            "\u001b[?25hRequirement already satisfied: spacy<3.7.0,>=3.6.0 in /usr/local/lib/python3.10/dist-packages (from en-core-web-sm==3.6.0) (3.6.1)\n",
            "Requirement already satisfied: spacy-legacy<3.1.0,>=3.0.11 in /usr/local/lib/python3.10/dist-packages (from spacy<3.7.0,>=3.6.0->en-core-web-sm==3.6.0) (3.0.12)\n",
            "Requirement already satisfied: spacy-loggers<2.0.0,>=1.0.0 in /usr/local/lib/python3.10/dist-packages (from spacy<3.7.0,>=3.6.0->en-core-web-sm==3.6.0) (1.0.4)\n",
            "Requirement already satisfied: murmurhash<1.1.0,>=0.28.0 in /usr/local/lib/python3.10/dist-packages (from spacy<3.7.0,>=3.6.0->en-core-web-sm==3.6.0) (1.0.9)\n",
            "Requirement already satisfied: cymem<2.1.0,>=2.0.2 in /usr/local/lib/python3.10/dist-packages (from spacy<3.7.0,>=3.6.0->en-core-web-sm==3.6.0) (2.0.7)\n",
            "Requirement already satisfied: preshed<3.1.0,>=3.0.2 in /usr/local/lib/python3.10/dist-packages (from spacy<3.7.0,>=3.6.0->en-core-web-sm==3.6.0) (3.0.8)\n",
            "Requirement already satisfied: thinc<8.2.0,>=8.1.8 in /usr/local/lib/python3.10/dist-packages (from spacy<3.7.0,>=3.6.0->en-core-web-sm==3.6.0) (8.1.12)\n",
            "Requirement already satisfied: wasabi<1.2.0,>=0.9.1 in /usr/local/lib/python3.10/dist-packages (from spacy<3.7.0,>=3.6.0->en-core-web-sm==3.6.0) (1.1.2)\n",
            "Requirement already satisfied: srsly<3.0.0,>=2.4.3 in /usr/local/lib/python3.10/dist-packages (from spacy<3.7.0,>=3.6.0->en-core-web-sm==3.6.0) (2.4.7)\n",
            "Requirement already satisfied: catalogue<2.1.0,>=2.0.6 in /usr/local/lib/python3.10/dist-packages (from spacy<3.7.0,>=3.6.0->en-core-web-sm==3.6.0) (2.0.9)\n",
            "Requirement already satisfied: typer<0.10.0,>=0.3.0 in /usr/local/lib/python3.10/dist-packages (from spacy<3.7.0,>=3.6.0->en-core-web-sm==3.6.0) (0.9.0)\n",
            "Requirement already satisfied: pathy>=0.10.0 in /usr/local/lib/python3.10/dist-packages (from spacy<3.7.0,>=3.6.0->en-core-web-sm==3.6.0) (0.10.2)\n",
            "Requirement already satisfied: smart-open<7.0.0,>=5.2.1 in /usr/local/lib/python3.10/dist-packages (from spacy<3.7.0,>=3.6.0->en-core-web-sm==3.6.0) (6.4.0)\n",
            "Requirement already satisfied: tqdm<5.0.0,>=4.38.0 in /usr/local/lib/python3.10/dist-packages (from spacy<3.7.0,>=3.6.0->en-core-web-sm==3.6.0) (4.66.1)\n",
            "Requirement already satisfied: numpy>=1.15.0 in /usr/local/lib/python3.10/dist-packages (from spacy<3.7.0,>=3.6.0->en-core-web-sm==3.6.0) (1.25.2)\n",
            "Requirement already satisfied: requests<3.0.0,>=2.13.0 in /usr/local/lib/python3.10/dist-packages (from spacy<3.7.0,>=3.6.0->en-core-web-sm==3.6.0) (2.31.0)\n",
            "Requirement already satisfied: pydantic!=1.8,!=1.8.1,<3.0.0,>=1.7.4 in /usr/local/lib/python3.10/dist-packages (from spacy<3.7.0,>=3.6.0->en-core-web-sm==3.6.0) (1.10.12)\n",
            "Requirement already satisfied: jinja2 in /usr/local/lib/python3.10/dist-packages (from spacy<3.7.0,>=3.6.0->en-core-web-sm==3.6.0) (3.1.2)\n",
            "Requirement already satisfied: setuptools in /usr/local/lib/python3.10/dist-packages (from spacy<3.7.0,>=3.6.0->en-core-web-sm==3.6.0) (67.7.2)\n",
            "Requirement already satisfied: packaging>=20.0 in /usr/local/lib/python3.10/dist-packages (from spacy<3.7.0,>=3.6.0->en-core-web-sm==3.6.0) (23.1)\n",
            "Requirement already satisfied: langcodes<4.0.0,>=3.2.0 in /usr/local/lib/python3.10/dist-packages (from spacy<3.7.0,>=3.6.0->en-core-web-sm==3.6.0) (3.3.0)\n",
            "Requirement already satisfied: typing-extensions>=4.2.0 in /usr/local/lib/python3.10/dist-packages (from pydantic!=1.8,!=1.8.1,<3.0.0,>=1.7.4->spacy<3.7.0,>=3.6.0->en-core-web-sm==3.6.0) (4.5.0)\n",
            "Requirement already satisfied: charset-normalizer<4,>=2 in /usr/local/lib/python3.10/dist-packages (from requests<3.0.0,>=2.13.0->spacy<3.7.0,>=3.6.0->en-core-web-sm==3.6.0) (3.2.0)\n",
            "Requirement already satisfied: idna<4,>=2.5 in /usr/local/lib/python3.10/dist-packages (from requests<3.0.0,>=2.13.0->spacy<3.7.0,>=3.6.0->en-core-web-sm==3.6.0) (3.4)\n",
            "Requirement already satisfied: urllib3<3,>=1.21.1 in /usr/local/lib/python3.10/dist-packages (from requests<3.0.0,>=2.13.0->spacy<3.7.0,>=3.6.0->en-core-web-sm==3.6.0) (2.0.4)\n",
            "Requirement already satisfied: certifi>=2017.4.17 in /usr/local/lib/python3.10/dist-packages (from requests<3.0.0,>=2.13.0->spacy<3.7.0,>=3.6.0->en-core-web-sm==3.6.0) (2023.7.22)\n",
            "Requirement already satisfied: blis<0.8.0,>=0.7.8 in /usr/local/lib/python3.10/dist-packages (from thinc<8.2.0,>=8.1.8->spacy<3.7.0,>=3.6.0->en-core-web-sm==3.6.0) (0.7.10)\n",
            "Requirement already satisfied: confection<1.0.0,>=0.0.1 in /usr/local/lib/python3.10/dist-packages (from thinc<8.2.0,>=8.1.8->spacy<3.7.0,>=3.6.0->en-core-web-sm==3.6.0) (0.1.2)\n",
            "Requirement already satisfied: click<9.0.0,>=7.1.1 in /usr/local/lib/python3.10/dist-packages (from typer<0.10.0,>=0.3.0->spacy<3.7.0,>=3.6.0->en-core-web-sm==3.6.0) (8.1.7)\n",
            "Requirement already satisfied: MarkupSafe>=2.0 in /usr/local/lib/python3.10/dist-packages (from jinja2->spacy<3.7.0,>=3.6.0->en-core-web-sm==3.6.0) (2.1.3)\n",
            "\u001b[38;5;2m✔ Download and installation successful\u001b[0m\n",
            "You can now load the package via spacy.load('en_core_web_sm')\n"
          ]
        }
      ]
    },
    {
      "cell_type": "code",
      "source": [
        "import gensim\n",
        "import gensim.corpora as corpora\n",
        "from gensim.utils import simple_preprocess\n",
        "from gensim.models import CoherenceModel\n"
      ],
      "metadata": {
        "id": "6ogdIX2uUyHk"
      },
      "execution_count": null,
      "outputs": []
    },
    {
      "cell_type": "code",
      "source": [
        "!pip install --upgrade pandas\n",
        "# topic modeling plotting tools\n",
        "!pip install -q pyLDAvis\n",
        "import pyLDAvis\n",
        "import pyLDAvis.gensim  # don't skip this\n"
      ],
      "metadata": {
        "colab": {
          "base_uri": "https://localhost:8080/"
        },
        "id": "WHsRdcacphJg",
        "outputId": "f42a9583-40af-4450-a9ed-51fe0d290c42"
      },
      "execution_count": null,
      "outputs": [
        {
          "output_type": "stream",
          "name": "stdout",
          "text": [
            "Requirement already satisfied: pandas in /usr/local/lib/python3.10/dist-packages (2.1.0)\n",
            "Requirement already satisfied: numpy>=1.22.4 in /usr/local/lib/python3.10/dist-packages (from pandas) (1.25.2)\n",
            "Requirement already satisfied: python-dateutil>=2.8.2 in /usr/local/lib/python3.10/dist-packages (from pandas) (2.8.2)\n",
            "Requirement already satisfied: pytz>=2020.1 in /usr/local/lib/python3.10/dist-packages (from pandas) (2023.3.post1)\n",
            "Requirement already satisfied: tzdata>=2022.1 in /usr/local/lib/python3.10/dist-packages (from pandas) (2023.3)\n",
            "Requirement already satisfied: six>=1.5 in /usr/local/lib/python3.10/dist-packages (from python-dateutil>=2.8.2->pandas) (1.16.0)\n"
          ]
        }
      ]
    },
    {
      "cell_type": "code",
      "source": [
        "df['text'] = df['text'].str.replace(\"&#039;\", \"'\", regex=False)\n"
      ],
      "metadata": {
        "id": "8r_km2gqVrDT",
        "colab": {
          "base_uri": "https://localhost:8080/"
        },
        "outputId": "f1d954df-0652-4146-cbce-24cc9128a39b"
      },
      "execution_count": null,
      "outputs": [
        {
          "output_type": "stream",
          "name": "stderr",
          "text": [
            "/usr/local/lib/python3.10/dist-packages/ipykernel/ipkernel.py:283: DeprecationWarning: `should_run_async` will not call `transform_cell` automatically in the future. Please pass the result to `transformed_cell` argument and any exception that happen during thetransform in `preprocessing_exc_tuple` in IPython 7.17 and above.\n"
          ]
        }
      ]
    },
    {
      "cell_type": "markdown",
      "source": [
        "# tokenization"
      ],
      "metadata": {
        "id": "0sT5fZ3JlpeH"
      }
    },
    {
      "cell_type": "code",
      "source": [
        "# Function to split the 'text' column into sentences and add a column for sentence number\n",
        "def sentences_split(row):\n",
        "    doc = nlp(str(row['text']))\n",
        "    sentences = []\n",
        "    for i, sent in enumerate(doc.sents):\n",
        "        sentences.append({'id': row['id'], 'sentence': sent.text, 'sentence_number': i + 1})\n",
        "    return sentences\n",
        "# Apply the function to the 'df' DataFrame and create a new DataFrame 'sent_df'\n",
        "sentences_list = df.apply(sentences_split, axis=1).explode().tolist()\n",
        "df_sent = pd.DataFrame(sentences_list)\n",
        "df_sent.head()"
      ],
      "metadata": {
        "colab": {
          "base_uri": "https://localhost:8080/",
          "height": 243
        },
        "id": "YfWRQVq4WSE_",
        "outputId": "65ffb380-b660-44f2-d849-b748fe5f2cfa"
      },
      "execution_count": null,
      "outputs": [
        {
          "output_type": "stream",
          "name": "stderr",
          "text": [
            "/usr/local/lib/python3.10/dist-packages/ipykernel/ipkernel.py:283: DeprecationWarning: `should_run_async` will not call `transform_cell` automatically in the future. Please pass the result to `transformed_cell` argument and any exception that happen during thetransform in `preprocessing_exc_tuple` in IPython 7.17 and above.\n"
          ]
        },
        {
          "output_type": "execute_result",
          "data": {
            "text/plain": [
              "     id                                           sentence  sentence_number\n",
              "0  4185  Several Swedish universities place high in Eur...                1\n",
              "1  4185  Many Master's programmes are taught in English...                2\n",
              "2  4185  More than 20,000 foreign students are studying...                3\n",
              "3  4185  A good part of their social life revolves arou...                4\n",
              "4  4185  The union can often help you with finding acco...                5"
            ],
            "text/html": [
              "\n",
              "  <div id=\"df-7ef18815-0d7a-4262-83fd-004cd3d15831\" class=\"colab-df-container\">\n",
              "    <div>\n",
              "<style scoped>\n",
              "    .dataframe tbody tr th:only-of-type {\n",
              "        vertical-align: middle;\n",
              "    }\n",
              "\n",
              "    .dataframe tbody tr th {\n",
              "        vertical-align: top;\n",
              "    }\n",
              "\n",
              "    .dataframe thead th {\n",
              "        text-align: right;\n",
              "    }\n",
              "</style>\n",
              "<table border=\"1\" class=\"dataframe\">\n",
              "  <thead>\n",
              "    <tr style=\"text-align: right;\">\n",
              "      <th></th>\n",
              "      <th>id</th>\n",
              "      <th>sentence</th>\n",
              "      <th>sentence_number</th>\n",
              "    </tr>\n",
              "  </thead>\n",
              "  <tbody>\n",
              "    <tr>\n",
              "      <th>0</th>\n",
              "      <td>4185</td>\n",
              "      <td>Several Swedish universities place high in Eur...</td>\n",
              "      <td>1</td>\n",
              "    </tr>\n",
              "    <tr>\n",
              "      <th>1</th>\n",
              "      <td>4185</td>\n",
              "      <td>Many Master's programmes are taught in English...</td>\n",
              "      <td>2</td>\n",
              "    </tr>\n",
              "    <tr>\n",
              "      <th>2</th>\n",
              "      <td>4185</td>\n",
              "      <td>More than 20,000 foreign students are studying...</td>\n",
              "      <td>3</td>\n",
              "    </tr>\n",
              "    <tr>\n",
              "      <th>3</th>\n",
              "      <td>4185</td>\n",
              "      <td>A good part of their social life revolves arou...</td>\n",
              "      <td>4</td>\n",
              "    </tr>\n",
              "    <tr>\n",
              "      <th>4</th>\n",
              "      <td>4185</td>\n",
              "      <td>The union can often help you with finding acco...</td>\n",
              "      <td>5</td>\n",
              "    </tr>\n",
              "  </tbody>\n",
              "</table>\n",
              "</div>\n",
              "    <div class=\"colab-df-buttons\">\n",
              "\n",
              "  <div class=\"colab-df-container\">\n",
              "    <button class=\"colab-df-convert\" onclick=\"convertToInteractive('df-7ef18815-0d7a-4262-83fd-004cd3d15831')\"\n",
              "            title=\"Convert this dataframe to an interactive table.\"\n",
              "            style=\"display:none;\">\n",
              "\n",
              "  <svg xmlns=\"http://www.w3.org/2000/svg\" height=\"24px\" viewBox=\"0 -960 960 960\">\n",
              "    <path d=\"M120-120v-720h720v720H120Zm60-500h600v-160H180v160Zm220 220h160v-160H400v160Zm0 220h160v-160H400v160ZM180-400h160v-160H180v160Zm440 0h160v-160H620v160ZM180-180h160v-160H180v160Zm440 0h160v-160H620v160Z\"/>\n",
              "  </svg>\n",
              "    </button>\n",
              "\n",
              "  <style>\n",
              "    .colab-df-container {\n",
              "      display:flex;\n",
              "      gap: 12px;\n",
              "    }\n",
              "\n",
              "    .colab-df-convert {\n",
              "      background-color: #E8F0FE;\n",
              "      border: none;\n",
              "      border-radius: 50%;\n",
              "      cursor: pointer;\n",
              "      display: none;\n",
              "      fill: #1967D2;\n",
              "      height: 32px;\n",
              "      padding: 0 0 0 0;\n",
              "      width: 32px;\n",
              "    }\n",
              "\n",
              "    .colab-df-convert:hover {\n",
              "      background-color: #E2EBFA;\n",
              "      box-shadow: 0px 1px 2px rgba(60, 64, 67, 0.3), 0px 1px 3px 1px rgba(60, 64, 67, 0.15);\n",
              "      fill: #174EA6;\n",
              "    }\n",
              "\n",
              "    .colab-df-buttons div {\n",
              "      margin-bottom: 4px;\n",
              "    }\n",
              "\n",
              "    [theme=dark] .colab-df-convert {\n",
              "      background-color: #3B4455;\n",
              "      fill: #D2E3FC;\n",
              "    }\n",
              "\n",
              "    [theme=dark] .colab-df-convert:hover {\n",
              "      background-color: #434B5C;\n",
              "      box-shadow: 0px 1px 3px 1px rgba(0, 0, 0, 0.15);\n",
              "      filter: drop-shadow(0px 1px 2px rgba(0, 0, 0, 0.3));\n",
              "      fill: #FFFFFF;\n",
              "    }\n",
              "  </style>\n",
              "\n",
              "    <script>\n",
              "      const buttonEl =\n",
              "        document.querySelector('#df-7ef18815-0d7a-4262-83fd-004cd3d15831 button.colab-df-convert');\n",
              "      buttonEl.style.display =\n",
              "        google.colab.kernel.accessAllowed ? 'block' : 'none';\n",
              "\n",
              "      async function convertToInteractive(key) {\n",
              "        const element = document.querySelector('#df-7ef18815-0d7a-4262-83fd-004cd3d15831');\n",
              "        const dataTable =\n",
              "          await google.colab.kernel.invokeFunction('convertToInteractive',\n",
              "                                                    [key], {});\n",
              "        if (!dataTable) return;\n",
              "\n",
              "        const docLinkHtml = 'Like what you see? Visit the ' +\n",
              "          '<a target=\"_blank\" href=https://colab.research.google.com/notebooks/data_table.ipynb>data table notebook</a>'\n",
              "          + ' to learn more about interactive tables.';\n",
              "        element.innerHTML = '';\n",
              "        dataTable['output_type'] = 'display_data';\n",
              "        await google.colab.output.renderOutput(dataTable, element);\n",
              "        const docLink = document.createElement('div');\n",
              "        docLink.innerHTML = docLinkHtml;\n",
              "        element.appendChild(docLink);\n",
              "      }\n",
              "    </script>\n",
              "  </div>\n",
              "\n",
              "\n",
              "<div id=\"df-39864be5-2179-42f0-b359-e3a8bf50a2f2\">\n",
              "  <button class=\"colab-df-quickchart\" onclick=\"quickchart('df-39864be5-2179-42f0-b359-e3a8bf50a2f2')\"\n",
              "            title=\"Suggest charts.\"\n",
              "            style=\"display:none;\">\n",
              "\n",
              "<svg xmlns=\"http://www.w3.org/2000/svg\" height=\"24px\"viewBox=\"0 0 24 24\"\n",
              "     width=\"24px\">\n",
              "    <g>\n",
              "        <path d=\"M19 3H5c-1.1 0-2 .9-2 2v14c0 1.1.9 2 2 2h14c1.1 0 2-.9 2-2V5c0-1.1-.9-2-2-2zM9 17H7v-7h2v7zm4 0h-2V7h2v10zm4 0h-2v-4h2v4z\"/>\n",
              "    </g>\n",
              "</svg>\n",
              "  </button>\n",
              "\n",
              "<style>\n",
              "  .colab-df-quickchart {\n",
              "      --bg-color: #E8F0FE;\n",
              "      --fill-color: #1967D2;\n",
              "      --hover-bg-color: #E2EBFA;\n",
              "      --hover-fill-color: #174EA6;\n",
              "      --disabled-fill-color: #AAA;\n",
              "      --disabled-bg-color: #DDD;\n",
              "  }\n",
              "\n",
              "  [theme=dark] .colab-df-quickchart {\n",
              "      --bg-color: #3B4455;\n",
              "      --fill-color: #D2E3FC;\n",
              "      --hover-bg-color: #434B5C;\n",
              "      --hover-fill-color: #FFFFFF;\n",
              "      --disabled-bg-color: #3B4455;\n",
              "      --disabled-fill-color: #666;\n",
              "  }\n",
              "\n",
              "  .colab-df-quickchart {\n",
              "    background-color: var(--bg-color);\n",
              "    border: none;\n",
              "    border-radius: 50%;\n",
              "    cursor: pointer;\n",
              "    display: none;\n",
              "    fill: var(--fill-color);\n",
              "    height: 32px;\n",
              "    padding: 0;\n",
              "    width: 32px;\n",
              "  }\n",
              "\n",
              "  .colab-df-quickchart:hover {\n",
              "    background-color: var(--hover-bg-color);\n",
              "    box-shadow: 0 1px 2px rgba(60, 64, 67, 0.3), 0 1px 3px 1px rgba(60, 64, 67, 0.15);\n",
              "    fill: var(--button-hover-fill-color);\n",
              "  }\n",
              "\n",
              "  .colab-df-quickchart-complete:disabled,\n",
              "  .colab-df-quickchart-complete:disabled:hover {\n",
              "    background-color: var(--disabled-bg-color);\n",
              "    fill: var(--disabled-fill-color);\n",
              "    box-shadow: none;\n",
              "  }\n",
              "\n",
              "  .colab-df-spinner {\n",
              "    border: 2px solid var(--fill-color);\n",
              "    border-color: transparent;\n",
              "    border-bottom-color: var(--fill-color);\n",
              "    animation:\n",
              "      spin 1s steps(1) infinite;\n",
              "  }\n",
              "\n",
              "  @keyframes spin {\n",
              "    0% {\n",
              "      border-color: transparent;\n",
              "      border-bottom-color: var(--fill-color);\n",
              "      border-left-color: var(--fill-color);\n",
              "    }\n",
              "    20% {\n",
              "      border-color: transparent;\n",
              "      border-left-color: var(--fill-color);\n",
              "      border-top-color: var(--fill-color);\n",
              "    }\n",
              "    30% {\n",
              "      border-color: transparent;\n",
              "      border-left-color: var(--fill-color);\n",
              "      border-top-color: var(--fill-color);\n",
              "      border-right-color: var(--fill-color);\n",
              "    }\n",
              "    40% {\n",
              "      border-color: transparent;\n",
              "      border-right-color: var(--fill-color);\n",
              "      border-top-color: var(--fill-color);\n",
              "    }\n",
              "    60% {\n",
              "      border-color: transparent;\n",
              "      border-right-color: var(--fill-color);\n",
              "    }\n",
              "    80% {\n",
              "      border-color: transparent;\n",
              "      border-right-color: var(--fill-color);\n",
              "      border-bottom-color: var(--fill-color);\n",
              "    }\n",
              "    90% {\n",
              "      border-color: transparent;\n",
              "      border-bottom-color: var(--fill-color);\n",
              "    }\n",
              "  }\n",
              "</style>\n",
              "\n",
              "  <script>\n",
              "    async function quickchart(key) {\n",
              "      const quickchartButtonEl =\n",
              "        document.querySelector('#' + key + ' button');\n",
              "      quickchartButtonEl.disabled = true;  // To prevent multiple clicks.\n",
              "      quickchartButtonEl.classList.add('colab-df-spinner');\n",
              "      try {\n",
              "        const charts = await google.colab.kernel.invokeFunction(\n",
              "            'suggestCharts', [key], {});\n",
              "      } catch (error) {\n",
              "        console.error('Error during call to suggestCharts:', error);\n",
              "      }\n",
              "      quickchartButtonEl.classList.remove('colab-df-spinner');\n",
              "      quickchartButtonEl.classList.add('colab-df-quickchart-complete');\n",
              "    }\n",
              "    (() => {\n",
              "      let quickchartButtonEl =\n",
              "        document.querySelector('#df-39864be5-2179-42f0-b359-e3a8bf50a2f2 button');\n",
              "      quickchartButtonEl.style.display =\n",
              "        google.colab.kernel.accessAllowed ? 'block' : 'none';\n",
              "    })();\n",
              "  </script>\n",
              "</div>\n",
              "    </div>\n",
              "  </div>\n"
            ]
          },
          "metadata": {},
          "execution_count": 10
        }
      ]
    },
    {
      "cell_type": "markdown",
      "source": [
        "# pos and ner analysis"
      ],
      "metadata": {
        "id": "c9fgStqylz2u"
      }
    },
    {
      "cell_type": "code",
      "source": [
        "# Function to tokenize and analyze each sentence in 'df_sent' using spaCy\n",
        "def tokens_split(row):\n",
        "    doc = nlp(str(row['sentence']))\n",
        "    tokens = []\n",
        "    for i, token in enumerate(doc):\n",
        "        entity = 'None' if token.ent_type_ == '' else token.ent_type_\n",
        "        tokens.append({\n",
        "            'id': row['id'],\n",
        "            'sentence_number': row['sentence_number'],\n",
        "            'token': token.text,\n",
        "            'token_number': i + 1,\n",
        "            'pos': token.pos_,\n",
        "            'entity': entity,\n",
        "            'lemma': token.lemma_\n",
        "        })\n",
        "    return tokens\n",
        "# Apply the function to the 'sent_df' DataFrame and create a new DataFrame 'tokens_df'\n",
        "tokens_list = df_sent.apply(tokens_split, axis=1).explode().tolist()\n",
        "df_tokens = pd.DataFrame(tokens_list)\n",
        "df_tokens.head()"
      ],
      "metadata": {
        "colab": {
          "base_uri": "https://localhost:8080/",
          "height": 243
        },
        "id": "I3xpgI_EWfKE",
        "outputId": "fce6e33c-7a92-4d56-c22e-dbc14955e952"
      },
      "execution_count": null,
      "outputs": [
        {
          "output_type": "stream",
          "name": "stderr",
          "text": [
            "/usr/local/lib/python3.10/dist-packages/ipykernel/ipkernel.py:283: DeprecationWarning: `should_run_async` will not call `transform_cell` automatically in the future. Please pass the result to `transformed_cell` argument and any exception that happen during thetransform in `preprocessing_exc_tuple` in IPython 7.17 and above.\n"
          ]
        },
        {
          "output_type": "execute_result",
          "data": {
            "text/plain": [
              "     id  sentence_number         token  token_number   pos entity       lemma\n",
              "0  4185                1       Several             1   ADJ   None     several\n",
              "1  4185                1       Swedish             2   ADJ   NORP     swedish\n",
              "2  4185                1  universities             3  NOUN   None  university\n",
              "3  4185                1         place             4  VERB   None       place\n",
              "4  4185                1          high             5   ADJ   None        high"
            ],
            "text/html": [
              "\n",
              "  <div id=\"df-a4ab8837-c297-46ee-a073-4001d3570105\" class=\"colab-df-container\">\n",
              "    <div>\n",
              "<style scoped>\n",
              "    .dataframe tbody tr th:only-of-type {\n",
              "        vertical-align: middle;\n",
              "    }\n",
              "\n",
              "    .dataframe tbody tr th {\n",
              "        vertical-align: top;\n",
              "    }\n",
              "\n",
              "    .dataframe thead th {\n",
              "        text-align: right;\n",
              "    }\n",
              "</style>\n",
              "<table border=\"1\" class=\"dataframe\">\n",
              "  <thead>\n",
              "    <tr style=\"text-align: right;\">\n",
              "      <th></th>\n",
              "      <th>id</th>\n",
              "      <th>sentence_number</th>\n",
              "      <th>token</th>\n",
              "      <th>token_number</th>\n",
              "      <th>pos</th>\n",
              "      <th>entity</th>\n",
              "      <th>lemma</th>\n",
              "    </tr>\n",
              "  </thead>\n",
              "  <tbody>\n",
              "    <tr>\n",
              "      <th>0</th>\n",
              "      <td>4185</td>\n",
              "      <td>1</td>\n",
              "      <td>Several</td>\n",
              "      <td>1</td>\n",
              "      <td>ADJ</td>\n",
              "      <td>None</td>\n",
              "      <td>several</td>\n",
              "    </tr>\n",
              "    <tr>\n",
              "      <th>1</th>\n",
              "      <td>4185</td>\n",
              "      <td>1</td>\n",
              "      <td>Swedish</td>\n",
              "      <td>2</td>\n",
              "      <td>ADJ</td>\n",
              "      <td>NORP</td>\n",
              "      <td>swedish</td>\n",
              "    </tr>\n",
              "    <tr>\n",
              "      <th>2</th>\n",
              "      <td>4185</td>\n",
              "      <td>1</td>\n",
              "      <td>universities</td>\n",
              "      <td>3</td>\n",
              "      <td>NOUN</td>\n",
              "      <td>None</td>\n",
              "      <td>university</td>\n",
              "    </tr>\n",
              "    <tr>\n",
              "      <th>3</th>\n",
              "      <td>4185</td>\n",
              "      <td>1</td>\n",
              "      <td>place</td>\n",
              "      <td>4</td>\n",
              "      <td>VERB</td>\n",
              "      <td>None</td>\n",
              "      <td>place</td>\n",
              "    </tr>\n",
              "    <tr>\n",
              "      <th>4</th>\n",
              "      <td>4185</td>\n",
              "      <td>1</td>\n",
              "      <td>high</td>\n",
              "      <td>5</td>\n",
              "      <td>ADJ</td>\n",
              "      <td>None</td>\n",
              "      <td>high</td>\n",
              "    </tr>\n",
              "  </tbody>\n",
              "</table>\n",
              "</div>\n",
              "    <div class=\"colab-df-buttons\">\n",
              "\n",
              "  <div class=\"colab-df-container\">\n",
              "    <button class=\"colab-df-convert\" onclick=\"convertToInteractive('df-a4ab8837-c297-46ee-a073-4001d3570105')\"\n",
              "            title=\"Convert this dataframe to an interactive table.\"\n",
              "            style=\"display:none;\">\n",
              "\n",
              "  <svg xmlns=\"http://www.w3.org/2000/svg\" height=\"24px\" viewBox=\"0 -960 960 960\">\n",
              "    <path d=\"M120-120v-720h720v720H120Zm60-500h600v-160H180v160Zm220 220h160v-160H400v160Zm0 220h160v-160H400v160ZM180-400h160v-160H180v160Zm440 0h160v-160H620v160ZM180-180h160v-160H180v160Zm440 0h160v-160H620v160Z\"/>\n",
              "  </svg>\n",
              "    </button>\n",
              "\n",
              "  <style>\n",
              "    .colab-df-container {\n",
              "      display:flex;\n",
              "      gap: 12px;\n",
              "    }\n",
              "\n",
              "    .colab-df-convert {\n",
              "      background-color: #E8F0FE;\n",
              "      border: none;\n",
              "      border-radius: 50%;\n",
              "      cursor: pointer;\n",
              "      display: none;\n",
              "      fill: #1967D2;\n",
              "      height: 32px;\n",
              "      padding: 0 0 0 0;\n",
              "      width: 32px;\n",
              "    }\n",
              "\n",
              "    .colab-df-convert:hover {\n",
              "      background-color: #E2EBFA;\n",
              "      box-shadow: 0px 1px 2px rgba(60, 64, 67, 0.3), 0px 1px 3px 1px rgba(60, 64, 67, 0.15);\n",
              "      fill: #174EA6;\n",
              "    }\n",
              "\n",
              "    .colab-df-buttons div {\n",
              "      margin-bottom: 4px;\n",
              "    }\n",
              "\n",
              "    [theme=dark] .colab-df-convert {\n",
              "      background-color: #3B4455;\n",
              "      fill: #D2E3FC;\n",
              "    }\n",
              "\n",
              "    [theme=dark] .colab-df-convert:hover {\n",
              "      background-color: #434B5C;\n",
              "      box-shadow: 0px 1px 3px 1px rgba(0, 0, 0, 0.15);\n",
              "      filter: drop-shadow(0px 1px 2px rgba(0, 0, 0, 0.3));\n",
              "      fill: #FFFFFF;\n",
              "    }\n",
              "  </style>\n",
              "\n",
              "    <script>\n",
              "      const buttonEl =\n",
              "        document.querySelector('#df-a4ab8837-c297-46ee-a073-4001d3570105 button.colab-df-convert');\n",
              "      buttonEl.style.display =\n",
              "        google.colab.kernel.accessAllowed ? 'block' : 'none';\n",
              "\n",
              "      async function convertToInteractive(key) {\n",
              "        const element = document.querySelector('#df-a4ab8837-c297-46ee-a073-4001d3570105');\n",
              "        const dataTable =\n",
              "          await google.colab.kernel.invokeFunction('convertToInteractive',\n",
              "                                                    [key], {});\n",
              "        if (!dataTable) return;\n",
              "\n",
              "        const docLinkHtml = 'Like what you see? Visit the ' +\n",
              "          '<a target=\"_blank\" href=https://colab.research.google.com/notebooks/data_table.ipynb>data table notebook</a>'\n",
              "          + ' to learn more about interactive tables.';\n",
              "        element.innerHTML = '';\n",
              "        dataTable['output_type'] = 'display_data';\n",
              "        await google.colab.output.renderOutput(dataTable, element);\n",
              "        const docLink = document.createElement('div');\n",
              "        docLink.innerHTML = docLinkHtml;\n",
              "        element.appendChild(docLink);\n",
              "      }\n",
              "    </script>\n",
              "  </div>\n",
              "\n",
              "\n",
              "<div id=\"df-9472cdcd-1e33-4565-b2d7-66e90a94d6b1\">\n",
              "  <button class=\"colab-df-quickchart\" onclick=\"quickchart('df-9472cdcd-1e33-4565-b2d7-66e90a94d6b1')\"\n",
              "            title=\"Suggest charts.\"\n",
              "            style=\"display:none;\">\n",
              "\n",
              "<svg xmlns=\"http://www.w3.org/2000/svg\" height=\"24px\"viewBox=\"0 0 24 24\"\n",
              "     width=\"24px\">\n",
              "    <g>\n",
              "        <path d=\"M19 3H5c-1.1 0-2 .9-2 2v14c0 1.1.9 2 2 2h14c1.1 0 2-.9 2-2V5c0-1.1-.9-2-2-2zM9 17H7v-7h2v7zm4 0h-2V7h2v10zm4 0h-2v-4h2v4z\"/>\n",
              "    </g>\n",
              "</svg>\n",
              "  </button>\n",
              "\n",
              "<style>\n",
              "  .colab-df-quickchart {\n",
              "      --bg-color: #E8F0FE;\n",
              "      --fill-color: #1967D2;\n",
              "      --hover-bg-color: #E2EBFA;\n",
              "      --hover-fill-color: #174EA6;\n",
              "      --disabled-fill-color: #AAA;\n",
              "      --disabled-bg-color: #DDD;\n",
              "  }\n",
              "\n",
              "  [theme=dark] .colab-df-quickchart {\n",
              "      --bg-color: #3B4455;\n",
              "      --fill-color: #D2E3FC;\n",
              "      --hover-bg-color: #434B5C;\n",
              "      --hover-fill-color: #FFFFFF;\n",
              "      --disabled-bg-color: #3B4455;\n",
              "      --disabled-fill-color: #666;\n",
              "  }\n",
              "\n",
              "  .colab-df-quickchart {\n",
              "    background-color: var(--bg-color);\n",
              "    border: none;\n",
              "    border-radius: 50%;\n",
              "    cursor: pointer;\n",
              "    display: none;\n",
              "    fill: var(--fill-color);\n",
              "    height: 32px;\n",
              "    padding: 0;\n",
              "    width: 32px;\n",
              "  }\n",
              "\n",
              "  .colab-df-quickchart:hover {\n",
              "    background-color: var(--hover-bg-color);\n",
              "    box-shadow: 0 1px 2px rgba(60, 64, 67, 0.3), 0 1px 3px 1px rgba(60, 64, 67, 0.15);\n",
              "    fill: var(--button-hover-fill-color);\n",
              "  }\n",
              "\n",
              "  .colab-df-quickchart-complete:disabled,\n",
              "  .colab-df-quickchart-complete:disabled:hover {\n",
              "    background-color: var(--disabled-bg-color);\n",
              "    fill: var(--disabled-fill-color);\n",
              "    box-shadow: none;\n",
              "  }\n",
              "\n",
              "  .colab-df-spinner {\n",
              "    border: 2px solid var(--fill-color);\n",
              "    border-color: transparent;\n",
              "    border-bottom-color: var(--fill-color);\n",
              "    animation:\n",
              "      spin 1s steps(1) infinite;\n",
              "  }\n",
              "\n",
              "  @keyframes spin {\n",
              "    0% {\n",
              "      border-color: transparent;\n",
              "      border-bottom-color: var(--fill-color);\n",
              "      border-left-color: var(--fill-color);\n",
              "    }\n",
              "    20% {\n",
              "      border-color: transparent;\n",
              "      border-left-color: var(--fill-color);\n",
              "      border-top-color: var(--fill-color);\n",
              "    }\n",
              "    30% {\n",
              "      border-color: transparent;\n",
              "      border-left-color: var(--fill-color);\n",
              "      border-top-color: var(--fill-color);\n",
              "      border-right-color: var(--fill-color);\n",
              "    }\n",
              "    40% {\n",
              "      border-color: transparent;\n",
              "      border-right-color: var(--fill-color);\n",
              "      border-top-color: var(--fill-color);\n",
              "    }\n",
              "    60% {\n",
              "      border-color: transparent;\n",
              "      border-right-color: var(--fill-color);\n",
              "    }\n",
              "    80% {\n",
              "      border-color: transparent;\n",
              "      border-right-color: var(--fill-color);\n",
              "      border-bottom-color: var(--fill-color);\n",
              "    }\n",
              "    90% {\n",
              "      border-color: transparent;\n",
              "      border-bottom-color: var(--fill-color);\n",
              "    }\n",
              "  }\n",
              "</style>\n",
              "\n",
              "  <script>\n",
              "    async function quickchart(key) {\n",
              "      const quickchartButtonEl =\n",
              "        document.querySelector('#' + key + ' button');\n",
              "      quickchartButtonEl.disabled = true;  // To prevent multiple clicks.\n",
              "      quickchartButtonEl.classList.add('colab-df-spinner');\n",
              "      try {\n",
              "        const charts = await google.colab.kernel.invokeFunction(\n",
              "            'suggestCharts', [key], {});\n",
              "      } catch (error) {\n",
              "        console.error('Error during call to suggestCharts:', error);\n",
              "      }\n",
              "      quickchartButtonEl.classList.remove('colab-df-spinner');\n",
              "      quickchartButtonEl.classList.add('colab-df-quickchart-complete');\n",
              "    }\n",
              "    (() => {\n",
              "      let quickchartButtonEl =\n",
              "        document.querySelector('#df-9472cdcd-1e33-4565-b2d7-66e90a94d6b1 button');\n",
              "      quickchartButtonEl.style.display =\n",
              "        google.colab.kernel.accessAllowed ? 'block' : 'none';\n",
              "    })();\n",
              "  </script>\n",
              "</div>\n",
              "    </div>\n",
              "  </div>\n"
            ]
          },
          "metadata": {},
          "execution_count": 11
        }
      ]
    },
    {
      "cell_type": "code",
      "source": [
        "# Filter the DataFrame where the 'token' column contains the case-insensitive substring 'swe'\n",
        "df_tokens_filtered = df_tokens[df_tokens['token'].str.contains('swe', case=False)]\n",
        "df_tokens_filtered.shape"
      ],
      "metadata": {
        "colab": {
          "base_uri": "https://localhost:8080/"
        },
        "id": "dQek0Brgfl51",
        "outputId": "2c466509-8ae4-406c-c369-8334919e7f75"
      },
      "execution_count": null,
      "outputs": [
        {
          "output_type": "stream",
          "name": "stderr",
          "text": [
            "/usr/local/lib/python3.10/dist-packages/ipykernel/ipkernel.py:283: DeprecationWarning: `should_run_async` will not call `transform_cell` automatically in the future. Please pass the result to `transformed_cell` argument and any exception that happen during thetransform in `preprocessing_exc_tuple` in IPython 7.17 and above.\n"
          ]
        },
        {
          "output_type": "execute_result",
          "data": {
            "text/plain": [
              "(3300, 7)"
            ]
          },
          "metadata": {},
          "execution_count": 12
        }
      ]
    },
    {
      "cell_type": "code",
      "source": [
        "# Plot the frequency diagram of unique POS tags in the 'pos_tag' column of the filtered DataFrame\n",
        "plt.figure(figsize=(6, 3))\n",
        "sns.countplot(data=df_tokens_filtered, x='pos', order=df_tokens_filtered['pos'].value_counts().index)\n",
        "plt.title('Frequency Diagram of Unique POS Tags for Tokens Containing \"swe\"')\n",
        "plt.xlabel('POS Tags')\n",
        "plt.ylabel('Frequency')\n",
        "plt.show()"
      ],
      "metadata": {
        "colab": {
          "base_uri": "https://localhost:8080/",
          "height": 405
        },
        "id": "-4f0bwW8Zc8G",
        "outputId": "03501aaf-707d-49e2-de55-59a5ae571b41"
      },
      "execution_count": null,
      "outputs": [
        {
          "output_type": "stream",
          "name": "stderr",
          "text": [
            "/usr/local/lib/python3.10/dist-packages/ipykernel/ipkernel.py:283: DeprecationWarning: `should_run_async` will not call `transform_cell` automatically in the future. Please pass the result to `transformed_cell` argument and any exception that happen during thetransform in `preprocessing_exc_tuple` in IPython 7.17 and above.\n",
            "/usr/local/lib/python3.10/dist-packages/seaborn/_oldcore.py:1498: FutureWarning: is_categorical_dtype is deprecated and will be removed in a future version. Use isinstance(dtype, CategoricalDtype) instead\n",
            "/usr/local/lib/python3.10/dist-packages/seaborn/_oldcore.py:1498: FutureWarning: is_categorical_dtype is deprecated and will be removed in a future version. Use isinstance(dtype, CategoricalDtype) instead\n"
          ]
        },
        {
          "output_type": "display_data",
          "data": {
            "text/plain": [
              "<Figure size 600x300 with 1 Axes>"
            ],
            "image/png": "[encoded data removed]"
          },
          "metadata": {}
        }
      ]
    },
    {
      "cell_type": "code",
      "source": [
        "# Write the 'tokens_df_sent' DataFrame to a TSV file called 'scom-gpols-tokens.tsv'\n",
        "df_tokens.to_csv('scom-gpols-tokens.tsv', sep='\\t', index=False)"
      ],
      "metadata": {
        "id": "6xMiv974X8jD",
        "colab": {
          "base_uri": "https://localhost:8080/"
        },
        "outputId": "2f49967b-bc2e-4b7c-bc27-96380bd875ee"
      },
      "execution_count": null,
      "outputs": [
        {
          "output_type": "stream",
          "name": "stderr",
          "text": [
            "/usr/local/lib/python3.10/dist-packages/ipykernel/ipkernel.py:283: DeprecationWarning: `should_run_async` will not call `transform_cell` automatically in the future. Please pass the result to `transformed_cell` argument and any exception that happen during thetransform in `preprocessing_exc_tuple` in IPython 7.17 and above.\n"
          ]
        }
      ]
    },
    {
      "cell_type": "markdown",
      "source": [
        "- link to dataset [scom-gpols-tokens.tsv](https://raw.githubusercontent.com/nils-holmberg/cca-nlp/main/csv/scom-gpols-tokens.tsv)"
      ],
      "metadata": {
        "id": "TGHGCCOllgk1"
      }
    },
    {
      "cell_type": "code",
      "source": [
        "# plot the frequency diagram of unique entities in the filtered DataFrame\n",
        "plt.figure(figsize=(6, 3))\n",
        "sns.countplot(data=df_tokens_filtered, x='entity', order=df_tokens_filtered['entity'].value_counts().index)\n",
        "plt.title('frequency diagram of unique entities for tokens containing \"swe\"')\n",
        "plt.xlabel('entity')\n",
        "plt.ylabel('frequency')\n",
        "plt.show()"
      ],
      "metadata": {
        "colab": {
          "base_uri": "https://localhost:8080/",
          "height": 405
        },
        "id": "L0k2qarDKcPs",
        "outputId": "62eb45b5-31f6-4d42-f5d4-9bd6dcc6b830"
      },
      "execution_count": null,
      "outputs": [
        {
          "output_type": "stream",
          "name": "stderr",
          "text": [
            "/usr/local/lib/python3.10/dist-packages/ipykernel/ipkernel.py:283: DeprecationWarning: `should_run_async` will not call `transform_cell` automatically in the future. Please pass the result to `transformed_cell` argument and any exception that happen during thetransform in `preprocessing_exc_tuple` in IPython 7.17 and above.\n",
            "/usr/local/lib/python3.10/dist-packages/seaborn/_oldcore.py:1498: FutureWarning: is_categorical_dtype is deprecated and will be removed in a future version. Use isinstance(dtype, CategoricalDtype) instead\n",
            "/usr/local/lib/python3.10/dist-packages/seaborn/_oldcore.py:1498: FutureWarning: is_categorical_dtype is deprecated and will be removed in a future version. Use isinstance(dtype, CategoricalDtype) instead\n"
          ]
        },
        {
          "output_type": "display_data",
          "data": {
            "text/plain": [
              "<Figure size 600x300 with 1 Axes>"
            ],
            "image/png": "[encoded data removed]"
          },
          "metadata": {}
        }
      ]
    },
    {
      "cell_type": "markdown",
      "source": [
        "- CARDINAL - Numerals that do not fall under another type\n",
        "- DATE - Absolute or relative dates or periods\n",
        "- EVENT - Named hurricanes, battles, wars, sports events, etc.\n",
        "- FAC - Buildings, airports, highways, bridges, etc.\n",
        "- GPE - Countries, cities, states\n",
        "- LANGUAGE - Any named language\n",
        "- LAW - Named documents made into laws.\n",
        "- LOC - Non-GPE locations, mountain ranges, bodies of water\n",
        "- MONEY - Monetary values, including unit\n",
        "- NORP - Nationalities or religious or political groups\n",
        "- ORDINAL - \"first\", \"second\", etc.\n",
        "- PERCENT - Percentage, including \"%\"\n",
        "- PERSON - People, including fictional\n",
        "- PRODUCT - Objects, vehicles, foods, etc. (not services)\n",
        "- QUANTITY - Measurements, as of weight or distance\n",
        "- TIME - Times smaller than a day\n",
        "- WORK_OF_ART - Titles of books, songs, etc."
      ],
      "metadata": {
        "id": "GAqts1S5hQdg"
      }
    },
    {
      "cell_type": "markdown",
      "source": [
        "# topic modeling"
      ],
      "metadata": {
        "id": "RdII3aBplDRc"
      }
    },
    {
      "cell_type": "code",
      "source": [
        "# Convert to list\n",
        "data = df.text.values.tolist()\n"
      ],
      "metadata": {
        "id": "sHKvTkbqYjIm",
        "colab": {
          "base_uri": "https://localhost:8080/"
        },
        "outputId": "7b7c41b8-a54c-45be-9553-727db9164fa3"
      },
      "execution_count": null,
      "outputs": [
        {
          "output_type": "stream",
          "name": "stderr",
          "text": [
            "/usr/local/lib/python3.10/dist-packages/ipykernel/ipkernel.py:283: DeprecationWarning: `should_run_async` will not call `transform_cell` automatically in the future. Please pass the result to `transformed_cell` argument and any exception that happen during thetransform in `preprocessing_exc_tuple` in IPython 7.17 and above.\n"
          ]
        }
      ]
    },
    {
      "cell_type": "code",
      "source": [
        "pprint(data[:2])"
      ],
      "metadata": {
        "colab": {
          "base_uri": "https://localhost:8080/"
        },
        "id": "pUwJMoZBcG5m",
        "outputId": "13f0519f-ac59-4865-aab8-1afe0e328343"
      },
      "execution_count": null,
      "outputs": [
        {
          "output_type": "stream",
          "name": "stdout",
          "text": [
            "['Several Swedish universities place high in European rankings, and their '\n",
            " 'research has contributed to the global success of Sweden’s many high-tech '\n",
            " \"companies. Many Master's programmes are taught in English, and scholarships \"\n",
            " 'are available for international students. More than 20,000 foreign students '\n",
            " 'are studying in Sweden, making for a vibrant, international study '\n",
            " 'environment. A good part of their social life revolves around their student '\n",
            " 'union. The union can often help you with finding accommodation and other '\n",
            " 'practical matters. Relations between students and teachers are highly '\n",
            " 'informal. Personal initiative and independent thinking are prized. Students '\n",
            " 'are required to take an active role and contribute with opinions and ideas '\n",
            " 'at lectures, seminars and in group discussions. Taking the initiative and '\n",
            " 'questioning old presumptions is rewarding, especially in the long term. Many '\n",
            " 'programmes also cooperate closely with industry.',\n",
            " 'Several Swedish universities place high in European rankings, and their '\n",
            " 'research has contributed to the global success of Sweden’s many high-tech '\n",
            " 'companies. The education system is student-centric and relations between '\n",
            " 'students and teachers are highly informal. Personal initiative and '\n",
            " 'independent thinking are prized. Students are required to take an active '\n",
            " 'role and contribute with opinions and ideas at lectures, seminars and in '\n",
            " 'group discussions. Taking the initiative and questioning old presumptions is '\n",
            " 'rewarding, especially in the long term. Many programmes also cooperate '\n",
            " 'closely with industry, offering students the possibility to mix study and '\n",
            " 'practical work. Currently, more than 20,000 foreign students are studying in '\n",
            " 'Sweden, making for a vibrant, international study environment. A good part '\n",
            " 'of their social life revolves around their student union. The union can '\n",
            " 'often help you with finding accommodation and other practical matters. Many '\n",
            " \"Master's Programmes are taught in English.\"]\n"
          ]
        },
        {
          "output_type": "stream",
          "name": "stderr",
          "text": [
            "/usr/local/lib/python3.10/dist-packages/ipykernel/ipkernel.py:283: DeprecationWarning: `should_run_async` will not call `transform_cell` automatically in the future. Please pass the result to `transformed_cell` argument and any exception that happen during thetransform in `preprocessing_exc_tuple` in IPython 7.17 and above.\n"
          ]
        }
      ]
    },
    {
      "cell_type": "code",
      "source": [
        "# Remove Emails\n",
        "data = [re.sub(r'\\S*@\\S*\\s?', '', str(sent)) for sent in data]\n",
        "\n",
        "# Remove new line characters\n",
        "data = [re.sub(r'\\s+', ' ', str(sent)) for sent in data]\n",
        "\n",
        "# Remove distracting single quotes\n",
        "data = [re.sub(r\"\\'\", \"\", str(sent)) for sent in data]\n",
        "\n",
        "pprint(data[:2])"
      ],
      "metadata": {
        "colab": {
          "base_uri": "https://localhost:8080/"
        },
        "id": "laTXirMKj7xx",
        "outputId": "c3a45fe7-fe87-4c5f-bcee-33027359c689"
      },
      "execution_count": null,
      "outputs": [
        {
          "output_type": "stream",
          "name": "stdout",
          "text": [
            "['Several Swedish universities place high in European rankings, and their '\n",
            " 'research has contributed to the global success of Sweden’s many high-tech '\n",
            " 'companies. Many Masters programmes are taught in English, and scholarships '\n",
            " 'are available for international students. More than 20,000 foreign students '\n",
            " 'are studying in Sweden, making for a vibrant, international study '\n",
            " 'environment. A good part of their social life revolves around their student '\n",
            " 'union. The union can often help you with finding accommodation and other '\n",
            " 'practical matters. Relations between students and teachers are highly '\n",
            " 'informal. Personal initiative and independent thinking are prized. Students '\n",
            " 'are required to take an active role and contribute with opinions and ideas '\n",
            " 'at lectures, seminars and in group discussions. Taking the initiative and '\n",
            " 'questioning old presumptions is rewarding, especially in the long term. Many '\n",
            " 'programmes also cooperate closely with industry.',\n",
            " 'Several Swedish universities place high in European rankings, and their '\n",
            " 'research has contributed to the global success of Sweden’s many high-tech '\n",
            " 'companies. The education system is student-centric and relations between '\n",
            " 'students and teachers are highly informal. Personal initiative and '\n",
            " 'independent thinking are prized. Students are required to take an active '\n",
            " 'role and contribute with opinions and ideas at lectures, seminars and in '\n",
            " 'group discussions. Taking the initiative and questioning old presumptions is '\n",
            " 'rewarding, especially in the long term. Many programmes also cooperate '\n",
            " 'closely with industry, offering students the possibility to mix study and '\n",
            " 'practical work. Currently, more than 20,000 foreign students are studying in '\n",
            " 'Sweden, making for a vibrant, international study environment. A good part '\n",
            " 'of their social life revolves around their student union. The union can '\n",
            " 'often help you with finding accommodation and other practical matters. Many '\n",
            " 'Masters Programmes are taught in English.']\n"
          ]
        },
        {
          "output_type": "stream",
          "name": "stderr",
          "text": [
            "/usr/local/lib/python3.10/dist-packages/ipykernel/ipkernel.py:283: DeprecationWarning: `should_run_async` will not call `transform_cell` automatically in the future. Please pass the result to `transformed_cell` argument and any exception that happen during thetransform in `preprocessing_exc_tuple` in IPython 7.17 and above.\n"
          ]
        }
      ]
    },
    {
      "cell_type": "code",
      "source": [
        "def sent_to_words(sentences):\n",
        "    for sentence in sentences:\n",
        "        yield(gensim.utils.simple_preprocess(str(sentence), deacc=True))  # deacc=True removes punctuations\n",
        "\n",
        "data_words = list(sent_to_words(data))\n",
        "\n",
        "print(data_words[:1])"
      ],
      "metadata": {
        "colab": {
          "base_uri": "https://localhost:8080/"
        },
        "id": "xYjfP-LXk4qP",
        "outputId": "58ea05a9-5ada-4871-d91b-03f25f3d6356"
      },
      "execution_count": null,
      "outputs": [
        {
          "output_type": "stream",
          "name": "stderr",
          "text": [
            "/usr/local/lib/python3.10/dist-packages/ipykernel/ipkernel.py:283: DeprecationWarning: `should_run_async` will not call `transform_cell` automatically in the future. Please pass the result to `transformed_cell` argument and any exception that happen during thetransform in `preprocessing_exc_tuple` in IPython 7.17 and above.\n"
          ]
        },
        {
          "output_type": "stream",
          "name": "stdout",
          "text": [
            "[['several', 'swedish', 'universities', 'place', 'high', 'in', 'european', 'rankings', 'and', 'their', 'research', 'has', 'contributed', 'to', 'the', 'global', 'success', 'of', 'sweden', 'many', 'high', 'tech', 'companies', 'many', 'masters', 'programmes', 'are', 'taught', 'in', 'english', 'and', 'scholarships', 'are', 'available', 'for', 'international', 'students', 'more', 'than', 'foreign', 'students', 'are', 'studying', 'in', 'sweden', 'making', 'for', 'vibrant', 'international', 'study', 'environment', 'good', 'part', 'of', 'their', 'social', 'life', 'revolves', 'around', 'their', 'student', 'union', 'the', 'union', 'can', 'often', 'help', 'you', 'with', 'finding', 'accommodation', 'and', 'other', 'practical', 'matters', 'relations', 'between', 'students', 'and', 'teachers', 'are', 'highly', 'informal', 'personal', 'initiative', 'and', 'independent', 'thinking', 'are', 'prized', 'students', 'are', 'required', 'to', 'take', 'an', 'active', 'role', 'and', 'contribute', 'with', 'opinions', 'and', 'ideas', 'at', 'lectures', 'seminars', 'and', 'in', 'group', 'discussions', 'taking', 'the', 'initiative', 'and', 'questioning', 'old', 'presumptions', 'is', 'rewarding', 'especially', 'in', 'the', 'long', 'term', 'many', 'programmes', 'also', 'cooperate', 'closely', 'with', 'industry']]\n"
          ]
        }
      ]
    },
    {
      "cell_type": "code",
      "source": [
        "# Build the bigram and trigram models\n",
        "bigram = gensim.models.Phrases(data_words, min_count=5, threshold=100) # higher threshold fewer phrases.\n",
        "trigram = gensim.models.Phrases(bigram[data_words], threshold=100)\n",
        "\n",
        "# Faster way to get a sentence clubbed as a trigram/bigram\n",
        "bigram_mod = gensim.models.phrases.Phraser(bigram)\n",
        "trigram_mod = gensim.models.phrases.Phraser(trigram)\n",
        "\n",
        "# See trigram example\n",
        "print(trigram_mod[bigram_mod[data_words[0]]])"
      ],
      "metadata": {
        "colab": {
          "base_uri": "https://localhost:8080/"
        },
        "id": "t8XA0slflA8Z",
        "outputId": "2235b5b1-f405-46b2-bdd5-0905bcf2b053"
      },
      "execution_count": null,
      "outputs": [
        {
          "output_type": "stream",
          "name": "stderr",
          "text": [
            "/usr/local/lib/python3.10/dist-packages/ipykernel/ipkernel.py:283: DeprecationWarning: `should_run_async` will not call `transform_cell` automatically in the future. Please pass the result to `transformed_cell` argument and any exception that happen during thetransform in `preprocessing_exc_tuple` in IPython 7.17 and above.\n"
          ]
        },
        {
          "output_type": "stream",
          "name": "stdout",
          "text": [
            "['several', 'swedish', 'universities', 'place', 'high', 'in_european_rankings', 'and', 'their', 'research', 'has', 'contributed', 'to', 'the', 'global_success', 'of', 'sweden', 'many', 'high', 'tech_companies', 'many', 'masters_programmes', 'are', 'taught', 'in', 'english', 'and', 'scholarships', 'are', 'available', 'for', 'international', 'students', 'more', 'than', 'foreign', 'students', 'are', 'studying', 'in', 'sweden', 'making', 'for', 'vibrant_international_study', 'environment', 'good', 'part', 'of', 'their', 'social', 'life_revolves', 'around', 'their', 'student', 'union', 'the', 'union', 'can', 'often_help', 'you', 'with', 'finding_accommodation', 'and', 'other', 'practical_matters', 'relations', 'between', 'students', 'and', 'teachers', 'are', 'highly_informal_personal', 'initiative', 'and_independent_thinking', 'are', 'prized', 'students', 'are', 'required', 'to', 'take', 'an_active_role', 'and', 'contribute', 'with', 'opinions', 'and', 'ideas', 'at', 'lectures_seminars_and', 'in', 'group_discussions_taking', 'the', 'initiative', 'and', 'questioning_old', 'presumptions', 'is', 'rewarding_especially', 'in', 'the', 'long', 'term', 'many', 'programmes', 'also', 'cooperate_closely', 'with', 'industry']\n"
          ]
        }
      ]
    },
    {
      "cell_type": "code",
      "source": [
        "# Define functions for stopwords, bigrams, trigrams and lemmatization\n",
        "def remove_stopwords(texts):\n",
        "    return [[word for word in simple_preprocess(str(doc)) if word not in stop_words] for doc in texts]\n",
        "\n",
        "def make_bigrams(texts):\n",
        "    return [bigram_mod[doc] for doc in texts]\n",
        "\n",
        "def make_trigrams(texts):\n",
        "    return [trigram_mod[bigram_mod[doc]] for doc in texts]\n",
        "\n",
        "def lemmatization(texts, allowed_postags=['NOUN', 'ADJ', 'VERB', 'ADV']):\n",
        "    \"\"\"https://spacy.io/api/annotation\"\"\"\n",
        "    texts_out = []\n",
        "    for sent in texts:\n",
        "        doc = nlp(\" \".join(sent))\n",
        "        texts_out.append([token.lemma_ for token in doc if token.pos_ in allowed_postags])\n",
        "    return texts_out"
      ],
      "metadata": {
        "colab": {
          "base_uri": "https://localhost:8080/"
        },
        "id": "yh7UMc1fmGUk",
        "outputId": "3f109545-6c40-4eb5-fce3-b3a9af4c9240"
      },
      "execution_count": null,
      "outputs": [
        {
          "output_type": "stream",
          "name": "stderr",
          "text": [
            "/usr/local/lib/python3.10/dist-packages/ipykernel/ipkernel.py:283: DeprecationWarning: `should_run_async` will not call `transform_cell` automatically in the future. Please pass the result to `transformed_cell` argument and any exception that happen during thetransform in `preprocessing_exc_tuple` in IPython 7.17 and above.\n"
          ]
        }
      ]
    },
    {
      "cell_type": "code",
      "source": [
        "# Remove Stop Words\n",
        "data_words_nostops = remove_stopwords(data_words)\n",
        "\n",
        "# Form Bigrams\n",
        "data_words_bigrams = make_bigrams(data_words_nostops)\n",
        "\n",
        "# Initialize spacy 'en' model, keeping only tagger component (for efficiency)\n",
        "# python3 -m spacy download en\n",
        "nlp = spacy.load('en_core_web_sm', disable=['parser', 'ner'])\n",
        "\n",
        "# Do lemmatization keeping only noun, adj, vb, adv\n",
        "data_lemmatized = lemmatization(data_words_bigrams, allowed_postags=['NOUN', 'ADJ', 'VERB', 'ADV'])\n",
        "\n",
        "print(data_lemmatized[:1])"
      ],
      "metadata": {
        "colab": {
          "base_uri": "https://localhost:8080/"
        },
        "id": "5UGDxXRymMPc",
        "outputId": "19191283-58af-4e27-8ef4-e4c1ed40c6d2"
      },
      "execution_count": null,
      "outputs": [
        {
          "output_type": "stream",
          "name": "stderr",
          "text": [
            "/usr/local/lib/python3.10/dist-packages/ipykernel/ipkernel.py:283: DeprecationWarning: `should_run_async` will not call `transform_cell` automatically in the future. Please pass the result to `transformed_cell` argument and any exception that happen during thetransform in `preprocessing_exc_tuple` in IPython 7.17 and above.\n"
          ]
        },
        {
          "output_type": "stream",
          "name": "stdout",
          "text": [
            "[['several', 'swedish', 'university', 'place', 'high', 'european_ranking', 'research', 'contribute', 'global_success', 'sweden', 'many', 'high', 'tech_companie', 'many', 'masters_programme', 'teach', 'english', 'scholarship', 'available', 'international', 'student', 'foreign', 'student', 'study', 'sweden', 'make', 'vibrant_international', 'study', 'environment', 'good', 'part', 'social', 'life_revolve', 'student', 'union', 'union', 'often', 'help', 'finding_accommodation', 'practical_matter', 'relation', 'student', 'teacher', 'highly', 'informal_personal', 'initiative', 'independent_thinke', 'prize', 'student', 'require', 'take', 'contribute', 'opinion', 'idea', 'lectures_seminar', 'group', 'discussions_take', 'initiative', 'questioning_old', 'presumption', 'rewarding_especially', 'long', 'term', 'many', 'programme', 'also', 'cooperate_closely', 'industry']]\n"
          ]
        }
      ]
    },
    {
      "cell_type": "code",
      "source": [
        "# Create Dictionary\n",
        "id2word = corpora.Dictionary(data_lemmatized)\n",
        "\n",
        "# Create Corpus\n",
        "texts = data_lemmatized\n",
        "\n",
        "# Term Document Frequency\n",
        "corpus = [id2word.doc2bow(text) for text in texts]\n",
        "\n",
        "# View\n",
        "pprint(corpus[:1])"
      ],
      "metadata": {
        "colab": {
          "base_uri": "https://localhost:8080/"
        },
        "id": "kCfXekkMmX0n",
        "outputId": "f7dc5ba3-10da-4811-bbf9-0715cc839a1b"
      },
      "execution_count": null,
      "outputs": [
        {
          "output_type": "stream",
          "name": "stdout",
          "text": [
            "[[(0, 1),\n",
            "  (1, 1),\n",
            "  (2, 2),\n",
            "  (3, 1),\n",
            "  (4, 1),\n",
            "  (5, 1),\n",
            "  (6, 1),\n",
            "  (7, 1),\n",
            "  (8, 1),\n",
            "  (9, 1),\n",
            "  (10, 1),\n",
            "  (11, 1),\n",
            "  (12, 1),\n",
            "  (13, 1),\n",
            "  (14, 2),\n",
            "  (15, 1),\n",
            "  (16, 1),\n",
            "  (17, 1),\n",
            "  (18, 1),\n",
            "  (19, 1),\n",
            "  (20, 2),\n",
            "  (21, 1),\n",
            "  (22, 1),\n",
            "  (23, 1),\n",
            "  (24, 1),\n",
            "  (25, 1),\n",
            "  (26, 3),\n",
            "  (27, 1),\n",
            "  (28, 1),\n",
            "  (29, 1),\n",
            "  (30, 1),\n",
            "  (31, 1),\n",
            "  (32, 1),\n",
            "  (33, 1),\n",
            "  (34, 1),\n",
            "  (35, 1),\n",
            "  (36, 1),\n",
            "  (37, 1),\n",
            "  (38, 1),\n",
            "  (39, 1),\n",
            "  (40, 1),\n",
            "  (41, 1),\n",
            "  (42, 1),\n",
            "  (43, 1),\n",
            "  (44, 5),\n",
            "  (45, 2),\n",
            "  (46, 2),\n",
            "  (47, 1),\n",
            "  (48, 1),\n",
            "  (49, 1),\n",
            "  (50, 1),\n",
            "  (51, 1),\n",
            "  (52, 1),\n",
            "  (53, 2),\n",
            "  (54, 1),\n",
            "  (55, 1)]]\n"
          ]
        },
        {
          "output_type": "stream",
          "name": "stderr",
          "text": [
            "/usr/local/lib/python3.10/dist-packages/ipykernel/ipkernel.py:283: DeprecationWarning: `should_run_async` will not call `transform_cell` automatically in the future. Please pass the result to `transformed_cell` argument and any exception that happen during thetransform in `preprocessing_exc_tuple` in IPython 7.17 and above.\n"
          ]
        }
      ]
    },
    {
      "cell_type": "code",
      "source": [
        "id2word[0]"
      ],
      "metadata": {
        "colab": {
          "base_uri": "https://localhost:8080/",
          "height": 75
        },
        "id": "Dkss3r6vmnsv",
        "outputId": "0e6432f4-5e16-4893-9229-d6c8d2b80a42"
      },
      "execution_count": null,
      "outputs": [
        {
          "output_type": "stream",
          "name": "stderr",
          "text": [
            "/usr/local/lib/python3.10/dist-packages/ipykernel/ipkernel.py:283: DeprecationWarning: `should_run_async` will not call `transform_cell` automatically in the future. Please pass the result to `transformed_cell` argument and any exception that happen during thetransform in `preprocessing_exc_tuple` in IPython 7.17 and above.\n"
          ]
        },
        {
          "output_type": "execute_result",
          "data": {
            "text/plain": [
              "'also'"
            ],
            "application/vnd.google.colaboratory.intrinsic+json": {
              "type": "string"
            }
          },
          "metadata": {},
          "execution_count": 24
        }
      ]
    },
    {
      "cell_type": "code",
      "source": [
        "# Human readable format of corpus (term-frequency)\n",
        "[[(id2word[id], freq) for id, freq in cp] for cp in corpus[:1]]"
      ],
      "metadata": {
        "colab": {
          "base_uri": "https://localhost:8080/"
        },
        "id": "dARobGXpmqLp",
        "outputId": "4c5de605-0dd1-4e4e-b7b8-5fe75aefc0d9"
      },
      "execution_count": null,
      "outputs": [
        {
          "output_type": "stream",
          "name": "stderr",
          "text": [
            "/usr/local/lib/python3.10/dist-packages/ipykernel/ipkernel.py:283: DeprecationWarning: `should_run_async` will not call `transform_cell` automatically in the future. Please pass the result to `transformed_cell` argument and any exception that happen during thetransform in `preprocessing_exc_tuple` in IPython 7.17 and above.\n"
          ]
        },
        {
          "output_type": "execute_result",
          "data": {
            "text/plain": [
              "[[('also', 1),\n",
              "  ('available', 1),\n",
              "  ('contribute', 2),\n",
              "  ('cooperate_closely', 1),\n",
              "  ('discussions_take', 1),\n",
              "  ('english', 1),\n",
              "  ('environment', 1),\n",
              "  ('european_ranking', 1),\n",
              "  ('finding_accommodation', 1),\n",
              "  ('foreign', 1),\n",
              "  ('global_success', 1),\n",
              "  ('good', 1),\n",
              "  ('group', 1),\n",
              "  ('help', 1),\n",
              "  ('high', 2),\n",
              "  ('highly', 1),\n",
              "  ('idea', 1),\n",
              "  ('independent_thinke', 1),\n",
              "  ('industry', 1),\n",
              "  ('informal_personal', 1),\n",
              "  ('initiative', 2),\n",
              "  ('international', 1),\n",
              "  ('lectures_seminar', 1),\n",
              "  ('life_revolve', 1),\n",
              "  ('long', 1),\n",
              "  ('make', 1),\n",
              "  ('many', 3),\n",
              "  ('masters_programme', 1),\n",
              "  ('often', 1),\n",
              "  ('opinion', 1),\n",
              "  ('part', 1),\n",
              "  ('place', 1),\n",
              "  ('practical_matter', 1),\n",
              "  ('presumption', 1),\n",
              "  ('prize', 1),\n",
              "  ('programme', 1),\n",
              "  ('questioning_old', 1),\n",
              "  ('relation', 1),\n",
              "  ('require', 1),\n",
              "  ('research', 1),\n",
              "  ('rewarding_especially', 1),\n",
              "  ('scholarship', 1),\n",
              "  ('several', 1),\n",
              "  ('social', 1),\n",
              "  ('student', 5),\n",
              "  ('study', 2),\n",
              "  ('sweden', 2),\n",
              "  ('swedish', 1),\n",
              "  ('take', 1),\n",
              "  ('teach', 1),\n",
              "  ('teacher', 1),\n",
              "  ('tech_companie', 1),\n",
              "  ('term', 1),\n",
              "  ('union', 2),\n",
              "  ('university', 1),\n",
              "  ('vibrant_international', 1)]]"
            ]
          },
          "metadata": {},
          "execution_count": 25
        }
      ]
    },
    {
      "cell_type": "code",
      "source": [
        "topics = []\n",
        "score = []\n",
        "\n",
        "for i in range(1,20,1):\n",
        "  #lda_model = LdaMulticore(corpus=corpus, id2word=dictionary, iterations=10, num_topics=i, workers = 4, passes=10, random_state=100)\n",
        "  lda_model = gensim.models.ldamodel.LdaModel(corpus=corpus, id2word=id2word, num_topics=i, iterations=10, passes=10, random_state=100)\n",
        "  cm = CoherenceModel(model=lda_model, corpus=corpus, dictionary=id2word, coherence='u_mass')\n",
        "  topics.append(i)\n",
        "  score.append(cm.get_coherence())\n",
        "\n",
        "_=plt.plot(topics, score)\n",
        "_=plt.xlabel('Number of Topics')\n",
        "_=plt.ylabel('Coherence Score')\n",
        "plt.show()"
      ],
      "metadata": {
        "colab": {
          "base_uri": "https://localhost:8080/",
          "height": 486
        },
        "id": "37Wk_DyZnJTt",
        "outputId": "a1d5fe35-0596-458c-d4db-d490ed96a22a"
      },
      "execution_count": null,
      "outputs": [
        {
          "output_type": "stream",
          "name": "stderr",
          "text": [
            "/usr/local/lib/python3.10/dist-packages/ipykernel/ipkernel.py:283: DeprecationWarning: `should_run_async` will not call `transform_cell` automatically in the future. Please pass the result to `transformed_cell` argument and any exception that happen during thetransform in `preprocessing_exc_tuple` in IPython 7.17 and above.\n"
          ]
        },
        {
          "output_type": "display_data",
          "data": {
            "text/plain": [
              "<Figure size 640x480 with 1 Axes>"
            ],
            "image/png": "[encoded data removed]"
          },
          "metadata": {}
        }
      ]
    },
    {
      "cell_type": "code",
      "source": [
        "topics = []\n",
        "score = []\n",
        "\n",
        "for i in range(1,20,1):\n",
        "  #lda_model = LdaMulticore(corpus=corpus, id2word=dictionary, iterations=10, num_topics=i, workers = 4, passes=10, random_state=100)\n",
        "  lda_model = gensim.models.ldamodel.LdaModel(corpus=corpus, id2word=id2word, num_topics=i, iterations=10, passes=10, random_state=100)\n",
        "  #cm = CoherenceModel(model=lda_model, corpus=corpus, dictionary=id2word, coherence='u_mass')\n",
        "  cm = CoherenceModel(model=lda_model, texts=data_lemmatized, corpus=corpus, dictionary=id2word, coherence='c_v')\n",
        "  topics.append(i)\n",
        "  score.append(cm.get_coherence())\n",
        "\n",
        "_=plt.plot(topics, score)\n",
        "_=plt.xlabel('Number of Topics')\n",
        "_=plt.ylabel('Coherence Score')\n",
        "plt.show()"
      ],
      "metadata": {
        "colab": {
          "base_uri": "https://localhost:8080/",
          "height": 486
        },
        "id": "WlwuCRLRoKOQ",
        "outputId": "3ffbaf03-6880-43f2-ec7e-63e101b6d118"
      },
      "execution_count": null,
      "outputs": [
        {
          "output_type": "stream",
          "name": "stderr",
          "text": [
            "/usr/local/lib/python3.10/dist-packages/ipykernel/ipkernel.py:283: DeprecationWarning: `should_run_async` will not call `transform_cell` automatically in the future. Please pass the result to `transformed_cell` argument and any exception that happen during thetransform in `preprocessing_exc_tuple` in IPython 7.17 and above.\n"
          ]
        },
        {
          "output_type": "display_data",
          "data": {
            "text/plain": [
              "<Figure size 640x480 with 1 Axes>"
            ],
            "image/png": "[encoded data removed]"
          },
          "metadata": {}
        }
      ]
    },
    {
      "cell_type": "code",
      "source": [
        "lda_model = gensim.models.ldamodel.LdaModel(corpus=corpus, id2word=id2word, num_topics=4, iterations=10, passes=10, random_state=100)\n"
      ],
      "metadata": {
        "colab": {
          "base_uri": "https://localhost:8080/"
        },
        "id": "iA2AC3_2pEFw",
        "outputId": "a4bc799b-1309-48ce-f7a5-f8de8d810a61"
      },
      "execution_count": null,
      "outputs": [
        {
          "output_type": "stream",
          "name": "stderr",
          "text": [
            "/usr/local/lib/python3.10/dist-packages/ipykernel/ipkernel.py:283: DeprecationWarning: `should_run_async` will not call `transform_cell` automatically in the future. Please pass the result to `transformed_cell` argument and any exception that happen during thetransform in `preprocessing_exc_tuple` in IPython 7.17 and above.\n"
          ]
        }
      ]
    },
    {
      "cell_type": "code",
      "source": [
        "# Print topics\n",
        "lda_model.print_topics(-1)"
      ],
      "metadata": {
        "colab": {
          "base_uri": "https://localhost:8080/"
        },
        "id": "sH58WqAIpMTr",
        "outputId": "e70ea7f3-b674-4f01-8aa1-4ffbc812f99c"
      },
      "execution_count": null,
      "outputs": [
        {
          "output_type": "stream",
          "name": "stderr",
          "text": [
            "/usr/local/lib/python3.10/dist-packages/ipykernel/ipkernel.py:283: DeprecationWarning: `should_run_async` will not call `transform_cell` automatically in the future. Please pass the result to `transformed_cell` argument and any exception that happen during thetransform in `preprocessing_exc_tuple` in IPython 7.17 and above.\n"
          ]
        },
        {
          "output_type": "execute_result",
          "data": {
            "text/plain": [
              "[(0,\n",
              "  '0.031*\"swedish\" + 0.022*\"sweden\" + 0.011*\"work\" + 0.009*\"people\" + 0.008*\"school\" + 0.007*\"many\" + 0.007*\"culture\" + 0.007*\"also\" + 0.007*\"country\" + 0.007*\"swede\"'),\n",
              " (1,\n",
              "  '0.054*\"student\" + 0.032*\"sweden\" + 0.022*\"many\" + 0.019*\"study\" + 0.015*\"initiative\" + 0.015*\"high\" + 0.014*\"university\" + 0.013*\"work\" + 0.013*\"contribute\" + 0.012*\"education\"'),\n",
              " (2,\n",
              "  '0.025*\"sweden\" + 0.022*\"swedish\" + 0.014*\"nature\" + 0.013*\"people\" + 0.011*\"swede\" + 0.011*\"time\" + 0.009*\"right\" + 0.008*\"also\" + 0.007*\"family\" + 0.007*\"take\"'),\n",
              " (3,\n",
              "  '0.028*\"sweden\" + 0.016*\"day\" + 0.015*\"summer\" + 0.013*\"holiday\" + 0.013*\"child\" + 0.012*\"also\" + 0.011*\"family\" + 0.011*\"swedish\" + 0.008*\"many\" + 0.008*\"year\"')]"
            ]
          },
          "metadata": {},
          "execution_count": 29
        }
      ]
    },
    {
      "cell_type": "code",
      "source": [
        "# Visualize the topics\n",
        "#pyLDAvis.enable_notebook()\n",
        "vis = pyLDAvis.gensim.prepare(lda_model, corpus, id2word)\n",
        "pyLDAvis.display(vis)\n",
        "#vis\n"
      ],
      "metadata": {
        "colab": {
          "base_uri": "https://localhost:8080/",
          "height": 898
        },
        "id": "D8SkO7_6pTOn",
        "outputId": "cac53477-d66e-4df2-87a8-a8262f0d1332"
      },
      "execution_count": null,
      "outputs": [
        {
          "output_type": "stream",
          "name": "stderr",
          "text": [
            "/usr/local/lib/python3.10/dist-packages/ipykernel/ipkernel.py:283: DeprecationWarning: `should_run_async` will not call `transform_cell` automatically in the future. Please pass the result to `transformed_cell` argument and any exception that happen during thetransform in `preprocessing_exc_tuple` in IPython 7.17 and above.\n"
          ]
        },
        {
          "output_type": "execute_result",
          "data": {
            "text/plain": [
              "<IPython.core.display.HTML object>"
            ],
            "text/html": [
              "\n",
              "<link rel=\"stylesheet\" type=\"text/css\" href=\"https://cdn.jsdelivr.net/gh/bmabey/pyLDAvis@3.4.0/pyLDAvis/js/ldavis.v1.0.0.css\">\n",
              "\n",
              "\n",
              "<div id=\"ldavis_el397981368659731929601368246165\" style=\"background-color:white;\"></div>\n",
              "<script type=\"text/javascript\">\n",
              "\n",
              "var ldavis_el397981368659731929601368246165_data = {\"mdsDat\": {\"x\": [0.2563473295767697, -0.09780190752235585, -0.06398660022511776, -0.0945588218292963], \"y\": [0.013884255617217782, -0.008801580156282324, -0.1602963319416503, 0.1552136564807149], \"topics\": [1, 2, 3, 4], \"cluster\": [1, 1, 1, 1], \"Freq\": [28.93907188142657, 26.092249235801475, 23.703376960430397, 21.265301922341557]}, \"tinfo\": {\"Term\": [\"student\", \"study\", \"initiative\", \"contribute\", \"union\", \"holiday\", \"high\", \"university\", \"nature\", \"education\", \"summer\", \"centric\", \"term\", \"parental_leave\", \"group\", \"presumption\", \"questioning_old\", \"lectures_seminar\", \"rewarding_especially\", \"cooperate_closely\", \"independent_thinke\", \"discussions_take\", \"informal_personal\", \"relation\", \"programme\", \"right\", \"people\", \"european_ranking\", \"swedish\", \"research\", \"union\", \"student\", \"presumption\", \"centric\", \"questioning_old\", \"lectures_seminar\", \"rewarding_especially\", \"cooperate_closely\", \"independent_thinke\", \"discussions_take\", \"informal_personal\", \"mix\", \"vibrant_international\", \"european_ranking\", \"finding_accommodation\", \"foreign\", \"intensive_nation\", \"practical_matter\", \"life_revolve\", \"masters_programme\", \"tech_companie\", \"global_success\", \"contribute\", \"relation\", \"scholarship\", \"shared_responsibility\", \"father\", \"programme\", \"parental_leave\", \"ability\", \"study\", \"practical\", \"term\", \"prize\", \"initiative\", \"opinion\", \"education\", \"high\", \"possibility\", \"group\", \"system\", \"teacher\", \"research\", \"university\", \"many\", \"sweden\", \"require\", \"work\", \"take\", \"offer\", \"also\", \"industry\", \"place\", \"idea\", \"world\", \"swedish\", \"day\", \"part\", \"long\", \"moment\", \"barbecue\", \"accompanying_sweet\", \"reindeer\", \"grill\", \"tradition_observe\", \"sunshine\", \"berries_mushroom\", \"market\", \"soon\", \"shopping\", \"frequently_preferably\", \"shellfish\", \"tend\", \"disability\", \"culinary_nation\", \"rivers_provide\", \"vast_forest\", \"coastline_lake\", \"open_face\", \"sandwich\", \"fika\", \"crucial_cinnamon\", \"buns_cake\", \"policy\", \"soup\", \"hamburger\", \"surprise\", \"combination\", \"incorporate\", \"spring\", \"quality\", \"vegetable\", \"lead\", \"game\", \"exciting\", \"mushroom\", \"right\", \"tradition\", \"special\", \"ensure\", \"countryside\", \"active\", \"cooking\", \"coffee\", \"nature\", \"provide\", \"people\", \"access\", \"full\", \"swede\", \"time\", \"public\", \"outdoors\", \"care\", \"swedish\", \"much\", \"great\", \"sweden\", \"enjoy\", \"food\", \"eat\", \"life\", \"family\", \"home\", \"make\", \"also\", \"take\", \"summer\", \"day\", \"place\", \"long\", \"part\", \"crayfish\", \"boss\", \"hours_flexible\", \"discussion\", \"informal\", \"usually_call\", \"crayfish_party\", \"gather\", \"beer\", \"heap\", \"brine\", \"paper_hat\", \"nine_year\", \"start_up\", \"creativity\", \"encourages_individualism\", \"often_describe\", \"broad_sense\", \"individual_responsibility\", \"teamwork\", \"labour_force\", \"cooperation_team\", \"productive\", \"coffee_break\", \"surprised\", \"seem_oddly\", \"typically\", \"respect\", \"make_reservation\", \"easter\", \"merge\", \"established_technology\", \"workplace\", \"casual\", \"office\", \"solstice\", \"culture\", \"product\", \"solution\", \"business\", \"turn\", \"start\", \"swedish\", \"meeting\", \"plenty\", \"dress\", \"common\", \"play\", \"work\", \"school\", \"country\", \"sweden\", \"people\", \"always\", \"open\", \"friend\", \"year\", \"swede\", \"time\", \"nature\", \"eat\", \"place\", \"many\", \"also\", \"summer\", \"get\", \"university\", \"day\", \"company\", \"take\", \"countryside_visite\", \"august\", \"textile\", \"resort\", \"volvo_car\", \"apartment\", \"cabin\", \"castle\", \"facility\", \"quaint_village\", \"manor_house\", \"meeting_destination\", \"conference_center\", \"conference_convention\", \"major_reason\", \"requirement\", \"meeting_venue\", \"suit_every\", \"offering_wealth\", \"wide_selection\", \"inn\", \"dalarna\", \"lucia_procession\", \"vacation\", \"giving_u\", \"manufacturer\", \"automotive\", \"self_catering\", \"heavy_truck\", \"view\", \"nice\", \"kindergarten\", \"balance\", \"holiday\", \"art\", \"short\", \"cafe\", \"hang\", \"ski\", \"city\", \"least\", \"main\", \"sing\", \"sector\", \"summer\", \"option\", \"winter\", \"child\", \"bus\", \"day\", \"tree\", \"centre\", \"family\", \"large\", \"sweden\", \"store\", \"restaurant\", \"break\", \"home\", \"also\", \"popular\", \"year\", \"school\", \"swedish\", \"part\", \"many\", \"relax\", \"usually\", \"event\", \"take\", \"swede\", \"world\", \"food\", \"time\"], \"Freq\": [836.0, 301.0, 258.0, 196.0, 161.0, 180.0, 273.0, 279.0, 278.0, 221.0, 324.0, 124.0, 134.0, 128.0, 178.0, 115.0, 115.0, 115.0, 115.0, 115.0, 115.0, 115.0, 115.0, 119.0, 120.0, 141.0, 327.0, 106.0, 952.0, 228.0, 159.67700217946086, 824.3645529146231, 114.14121935818193, 122.4367665847293, 114.08763579534995, 114.07702125483134, 114.0314198832316, 114.02516894058661, 113.99463794603338, 113.96756944865467, 113.9418064829975, 101.67759891914712, 67.4633020437057, 104.41326259354595, 66.52121190571026, 74.8289772063038, 78.42409937506177, 66.41748599137755, 66.40441648359995, 63.594394263321995, 66.32903621724309, 67.14859794600316, 191.75306514401183, 116.4491936787161, 37.58589995149357, 31.124614150790816, 46.54575351351342, 116.6615483466184, 124.86108222938368, 29.12775726336549, 288.3136821475435, 102.67806902999497, 129.10569223904653, 86.16314951473976, 231.7997114609438, 114.85317405385013, 189.48010603568315, 227.11261134105143, 104.77456849748265, 155.1338227413063, 152.98517295776787, 119.46022521242492, 178.43356223228994, 208.9462651508568, 328.8837331603162, 490.8720373471449, 118.1452709575885, 193.22105042151247, 167.35118725936528, 135.25012052423432, 180.82935484694107, 125.86872566941892, 137.23593360663475, 120.51000043160425, 135.52526133454924, 145.34230644861827, 133.4460459718098, 124.91209730045915, 122.04919395017767, 34.91368753674568, 30.974484630823326, 23.649433829176903, 25.420080939380696, 25.41838725495413, 19.90512937960423, 19.9012206310315, 21.705547911527074, 27.123967455610888, 19.885915097544988, 25.309812327333223, 18.977228613167135, 18.01902704866992, 27.028906818268037, 24.31260804129625, 18.007409557003673, 18.004350049630663, 18.003172946950823, 17.9993809490515, 17.08518319315907, 17.08373740399796, 17.980847979141192, 15.221397833412928, 15.218018461181266, 24.169316581241524, 15.213711480859514, 15.210607192406295, 15.20793152286367, 15.206137081006629, 15.201462256097427, 46.50138699005928, 48.1339740299716, 25.00204315831094, 40.1683506671182, 51.268748802869496, 22.06825227069858, 30.414881060611275, 120.52364574558804, 73.46069441373318, 26.972511445039064, 26.95071905221909, 64.48083396111957, 38.70428122933821, 29.871337904952153, 64.85325261604835, 188.7355433504564, 55.67810187263321, 180.41011360405088, 79.23817025827557, 47.857374092100684, 157.69278676420234, 154.3508131318153, 88.35138237046128, 58.81044887125394, 68.66311816637467, 302.7804415353929, 66.23144793522597, 45.59919216298777, 346.52595286951936, 79.80848930125248, 75.9295713252403, 68.98287427097495, 76.68240525656415, 99.14043045009768, 84.09151814238868, 77.80743393741574, 107.43182017824545, 92.63627922237202, 84.07642691835747, 70.58677263171475, 63.007498038384426, 58.89725379659498, 54.39131113546404, 80.03462740929933, 34.482041121805075, 34.47977169453792, 34.46825602199022, 37.17939054837248, 34.44396356110233, 28.04102878403007, 36.97110884842958, 24.344246544800317, 23.423903708267968, 23.42310897285495, 23.41389469133874, 29.68829300176678, 26.98457988030171, 27.8412988439428, 26.026320754786617, 26.021712161130136, 27.781721293035556, 27.75125691983595, 28.645457755844618, 22.359202341749942, 23.237142339106857, 29.485023801229573, 22.316439183776648, 22.314232231139766, 22.309270583177312, 17.834809957891604, 32.09883157103537, 20.498688964514365, 22.27368329029525, 25.8186405547724, 25.779188552203625, 41.83419218488488, 38.30334982815449, 39.087824872824896, 32.33462244887609, 92.98396777252029, 50.630550388327435, 36.50209000548776, 62.376681676814755, 46.88773306397609, 70.0275747986773, 380.7635189130023, 72.95891350909613, 74.37004396497481, 46.82147218052793, 74.85048840076486, 55.28239392374128, 141.26738988840876, 104.08890594862444, 86.73533080324077, 278.7127969256205, 111.45936643706963, 42.914892868346534, 68.34278802741841, 60.44640738393729, 77.14005283944913, 81.14246823447068, 79.9897154146243, 77.10202177149449, 56.17088777491935, 73.43266880075174, 93.25631647935988, 89.04431177585482, 72.99822312762382, 54.788210880884485, 62.63351924056588, 62.19553430698802, 51.194954915612094, 51.37114499617151, 24.576738999226606, 23.664340248142167, 30.003701327679934, 33.62927884106435, 24.532168604911046, 36.26714648905292, 27.14791659472757, 20.773495140085984, 22.549684139452737, 17.08826754320555, 17.08063189455665, 17.076550772002925, 17.07341986929643, 17.073186550568508, 17.072897183207626, 17.070673486281198, 17.06848628613902, 17.067842378588228, 17.06736270656658, 17.067111139446535, 17.0636139654409, 17.048307474815424, 18.762803874224424, 22.323774258736965, 21.407034997239272, 14.256385597027434, 18.71112312426193, 15.138787901823518, 16.919499895524805, 21.340485718062364, 22.22613754011378, 18.6618915692143, 18.620810528164895, 143.6092046856624, 48.73981301804772, 36.069326097648144, 42.05297387635197, 20.856727360037436, 20.087840481928875, 77.07249083019339, 45.23016232602486, 44.71747635610764, 24.747319755010906, 34.99397441868882, 165.64992552719198, 31.61338678344637, 74.0462661147674, 143.19071170208252, 33.21700073846057, 183.11858992849747, 33.12033379153332, 47.24368991340571, 126.96318822913052, 58.41708656438051, 309.40989321478787, 49.90045246798603, 55.205771014515484, 36.71249067819226, 86.22307406910744, 135.85218858763213, 51.593694704392476, 88.87375730219604, 84.66790959519254, 124.0052594246994, 73.42571129206964, 94.81465170505761, 43.69852263647584, 44.37303013395603, 40.083169436509316, 54.39877497636118, 52.1274914570884, 50.3625747502303, 42.95154816694303, 44.77395773665632], \"Total\": [836.0, 301.0, 258.0, 196.0, 161.0, 180.0, 273.0, 279.0, 278.0, 221.0, 324.0, 124.0, 134.0, 128.0, 178.0, 115.0, 115.0, 115.0, 115.0, 115.0, 115.0, 115.0, 115.0, 119.0, 120.0, 141.0, 327.0, 106.0, 952.0, 228.0, 161.94890176980482, 836.0939349941639, 115.80993657579431, 124.2834204679414, 115.80944250950351, 115.81017751875007, 115.8087449866264, 115.8090154540054, 115.80927604712997, 115.80894179060724, 115.80953939426229, 103.56871004720793, 68.73157630957542, 106.39337147099647, 67.78988131576382, 76.26394761980836, 80.02848686733948, 67.78962439628977, 67.78959629253644, 64.96489692602356, 67.78890424413945, 68.73066080541874, 196.78070621164196, 119.57505854269539, 38.600521238843406, 32.009599687592456, 48.012632212609105, 120.51323211248538, 128.98475778998076, 30.12547375833364, 301.2088329585634, 106.37414641244983, 134.6404510734107, 89.43885605345173, 258.6902928768845, 124.20720323004329, 221.9810689626013, 273.9701877952907, 113.92576075009656, 178.88588701993737, 181.68452900535308, 135.44109777209863, 228.47180585489858, 279.9659009184013, 555.4955124394091, 1425.5206803570727, 135.5798784709611, 399.7166048775811, 365.75738645427, 201.30199206776413, 513.1576753886734, 184.41330443030122, 279.8795774802422, 151.3030850008827, 279.2379954190728, 952.8915263217128, 449.34694283901, 292.4007714736257, 267.84393513966, 35.788178513466285, 32.01838193768695, 24.485260650774794, 26.368542360243467, 26.368091390059657, 20.717580996934657, 20.71743069620347, 22.600689168385372, 28.251321385506074, 20.717294163250223, 26.36804449696074, 19.77570737017451, 18.833504920500104, 28.250899741020458, 25.426381558610753, 18.833492531744724, 18.83336966779406, 18.833510094650837, 18.833450092924235, 17.891757818134316, 17.89183143126031, 18.833003046801238, 16.00789454264891, 16.007991995676992, 25.42559240736929, 16.0078908172248, 16.00783658976447, 16.007946309136695, 16.007799734324006, 16.007754331705915, 48.97015100761908, 50.85577908592895, 26.363194113963328, 43.31900513987428, 56.47359966026047, 23.541650649854798, 32.94540189103414, 141.09731056318313, 83.74987059963024, 29.191588922586224, 29.182167655023488, 75.33206756460635, 43.30950357904899, 32.93867050771792, 78.1388719146181, 278.00241009325276, 74.35091021173103, 327.5561595643975, 119.26352850861765, 63.06860070490808, 302.3996061067598, 299.58983738340385, 148.44500276855337, 86.42875820281202, 110.05836111700066, 952.8915263217128, 107.32309323688091, 63.94974655995607, 1425.5206803570727, 154.90292694380497, 149.40950396077233, 128.4594632158528, 154.20899820816936, 295.4787941386655, 226.67524248251638, 237.12673445248373, 513.1576753886734, 365.75738645427, 324.02583637895077, 449.34694283901, 279.8795774802422, 267.84393513966, 292.4007714736257, 81.12291493916139, 35.436753153099524, 35.43681458580934, 35.43689167329883, 38.23472685282672, 35.437162974516625, 28.909501393809535, 38.23625853841042, 25.179792234808406, 24.247391125831385, 24.247381555193545, 24.247409794147718, 30.77598986111409, 27.978318377630554, 28.91130869076171, 27.046155522006963, 27.046185155250303, 28.912026318161644, 28.912332694489894, 29.84505279099902, 23.3162592533637, 24.249011117704804, 30.777882654278486, 23.31666537708613, 23.31667666445359, 23.316712981548093, 18.653151752064833, 33.577056038275664, 21.45155695340936, 23.316843020993915, 27.047774833088532, 27.048196209846644, 44.77687096332018, 41.04780342716418, 41.98105876120156, 34.51452990557168, 109.23610275664981, 58.814702256164814, 41.06473153827891, 80.34260668248942, 56.96697165522019, 99.10522830230252, 952.8915263217128, 106.59299587293788, 110.35852685403083, 61.668586659045545, 125.41407420648078, 86.99748356569937, 399.7166048775811, 245.60306203983686, 184.6227222061305, 1425.5206803570727, 327.5561595643975, 61.7152281209023, 153.7344675893342, 146.27597953086592, 263.76350248569224, 302.3996061067598, 299.58983738340385, 278.00241009325276, 128.4594632158528, 279.8795774802422, 555.4955124394091, 513.1576753886734, 324.02583637895077, 149.1682748406229, 279.9659009184013, 449.34694283901, 117.19540394220643, 365.75738645427, 25.400255379297366, 24.459491599657685, 31.04527484720686, 34.80759125158284, 25.40051358805092, 37.631631699880806, 28.22196461811918, 21.63649778965725, 23.51731944624433, 17.87345665048172, 17.87329246864549, 17.873344163731268, 17.87332885809839, 17.873321518324865, 17.87339071925193, 17.87323804119602, 17.87324186914563, 17.873253521979827, 17.873347397969958, 17.87310987974946, 17.87326794165139, 17.873135556605593, 19.75451439769345, 23.517002854577324, 22.57713015025776, 15.050765420540968, 19.75479038927686, 15.991639975116362, 17.87308007330964, 22.57650925682439, 23.51800388257658, 19.754683679621067, 19.752044900685142, 180.38925390036627, 57.39062420154528, 41.35462507419826, 50.77176162637617, 22.57492165234285, 21.631367748744868, 105.37320293500231, 56.421042673289946, 58.33499569588194, 28.202442507100212, 44.202532439652195, 324.02583637895077, 39.504014850846616, 122.34459882026425, 310.1270695625163, 43.284263211704946, 449.34694283901, 43.27968928102405, 71.52631142581639, 295.4787941386655, 104.24650214151166, 1425.5206803570727, 87.33891637651274, 104.07841181369817, 53.59024082052275, 226.67524248251638, 513.1576753886734, 97.70314016470701, 263.76350248569224, 245.60306203983686, 952.8915263217128, 292.4007714736257, 555.4955124394091, 85.40193788647764, 92.91080716284483, 69.51998697038276, 365.75738645427, 302.3996061067598, 279.2379954190728, 149.40950396077233, 299.58983738340385], \"Category\": [\"Default\", \"Default\", \"Default\", \"Default\", \"Default\", \"Default\", \"Default\", \"Default\", \"Default\", \"Default\", \"Default\", \"Default\", \"Default\", \"Default\", \"Default\", \"Default\", \"Default\", \"Default\", \"Default\", \"Default\", \"Default\", \"Default\", \"Default\", \"Default\", \"Default\", \"Default\", \"Default\", \"Default\", \"Default\", \"Default\", \"Topic1\", \"Topic1\", \"Topic1\", \"Topic1\", \"Topic1\", \"Topic1\", \"Topic1\", \"Topic1\", \"Topic1\", \"Topic1\", \"Topic1\", \"Topic1\", \"Topic1\", \"Topic1\", \"Topic1\", \"Topic1\", \"Topic1\", \"Topic1\", \"Topic1\", \"Topic1\", \"Topic1\", \"Topic1\", \"Topic1\", \"Topic1\", \"Topic1\", \"Topic1\", \"Topic1\", \"Topic1\", \"Topic1\", \"Topic1\", \"Topic1\", \"Topic1\", \"Topic1\", \"Topic1\", \"Topic1\", \"Topic1\", \"Topic1\", \"Topic1\", \"Topic1\", \"Topic1\", \"Topic1\", \"Topic1\", \"Topic1\", \"Topic1\", \"Topic1\", \"Topic1\", \"Topic1\", \"Topic1\", \"Topic1\", \"Topic1\", \"Topic1\", \"Topic1\", \"Topic1\", \"Topic1\", \"Topic1\", \"Topic1\", \"Topic1\", \"Topic1\", \"Topic1\", \"Topic2\", \"Topic2\", \"Topic2\", \"Topic2\", \"Topic2\", \"Topic2\", \"Topic2\", \"Topic2\", \"Topic2\", \"Topic2\", \"Topic2\", \"Topic2\", \"Topic2\", \"Topic2\", \"Topic2\", \"Topic2\", \"Topic2\", \"Topic2\", \"Topic2\", \"Topic2\", \"Topic2\", \"Topic2\", \"Topic2\", \"Topic2\", \"Topic2\", \"Topic2\", \"Topic2\", \"Topic2\", \"Topic2\", \"Topic2\", \"Topic2\", \"Topic2\", \"Topic2\", \"Topic2\", \"Topic2\", \"Topic2\", \"Topic2\", \"Topic2\", \"Topic2\", \"Topic2\", \"Topic2\", \"Topic2\", \"Topic2\", \"Topic2\", \"Topic2\", \"Topic2\", \"Topic2\", \"Topic2\", \"Topic2\", \"Topic2\", \"Topic2\", \"Topic2\", \"Topic2\", \"Topic2\", \"Topic2\", \"Topic2\", \"Topic2\", \"Topic2\", \"Topic2\", \"Topic2\", \"Topic2\", \"Topic2\", \"Topic2\", \"Topic2\", \"Topic2\", \"Topic2\", \"Topic2\", \"Topic2\", \"Topic2\", \"Topic2\", \"Topic2\", \"Topic2\", \"Topic2\", \"Topic3\", \"Topic3\", \"Topic3\", \"Topic3\", \"Topic3\", \"Topic3\", \"Topic3\", \"Topic3\", \"Topic3\", \"Topic3\", \"Topic3\", \"Topic3\", \"Topic3\", \"Topic3\", \"Topic3\", \"Topic3\", \"Topic3\", \"Topic3\", \"Topic3\", \"Topic3\", \"Topic3\", \"Topic3\", \"Topic3\", \"Topic3\", \"Topic3\", \"Topic3\", \"Topic3\", \"Topic3\", \"Topic3\", \"Topic3\", \"Topic3\", \"Topic3\", \"Topic3\", \"Topic3\", \"Topic3\", \"Topic3\", \"Topic3\", \"Topic3\", \"Topic3\", \"Topic3\", \"Topic3\", \"Topic3\", \"Topic3\", \"Topic3\", \"Topic3\", \"Topic3\", \"Topic3\", \"Topic3\", \"Topic3\", \"Topic3\", \"Topic3\", \"Topic3\", \"Topic3\", \"Topic3\", \"Topic3\", \"Topic3\", \"Topic3\", \"Topic3\", \"Topic3\", \"Topic3\", \"Topic3\", \"Topic3\", \"Topic3\", \"Topic3\", \"Topic3\", \"Topic3\", \"Topic3\", \"Topic3\", \"Topic3\", \"Topic3\", \"Topic4\", \"Topic4\", \"Topic4\", \"Topic4\", \"Topic4\", \"Topic4\", \"Topic4\", \"Topic4\", \"Topic4\", \"Topic4\", \"Topic4\", \"Topic4\", \"Topic4\", \"Topic4\", \"Topic4\", \"Topic4\", \"Topic4\", \"Topic4\", \"Topic4\", \"Topic4\", \"Topic4\", \"Topic4\", \"Topic4\", \"Topic4\", \"Topic4\", \"Topic4\", \"Topic4\", \"Topic4\", \"Topic4\", \"Topic4\", \"Topic4\", \"Topic4\", \"Topic4\", \"Topic4\", \"Topic4\", \"Topic4\", \"Topic4\", \"Topic4\", \"Topic4\", \"Topic4\", \"Topic4\", \"Topic4\", \"Topic4\", \"Topic4\", \"Topic4\", \"Topic4\", \"Topic4\", \"Topic4\", \"Topic4\", \"Topic4\", \"Topic4\", \"Topic4\", \"Topic4\", \"Topic4\", \"Topic4\", \"Topic4\", \"Topic4\", \"Topic4\", \"Topic4\", \"Topic4\", \"Topic4\", \"Topic4\", \"Topic4\", \"Topic4\", \"Topic4\", \"Topic4\", \"Topic4\", \"Topic4\", \"Topic4\", \"Topic4\", \"Topic4\", \"Topic4\", \"Topic4\", \"Topic4\"], \"logprob\": [30.0, 29.0, 28.0, 27.0, 26.0, 25.0, 24.0, 23.0, 22.0, 21.0, 20.0, 19.0, 18.0, 17.0, 16.0, 15.0, 14.0, 13.0, 12.0, 11.0, 10.0, 9.0, 8.0, 7.0, 6.0, 5.0, 4.0, 3.0, 2.0, 1.0, -4.5583, -2.9169, -4.894, -4.8239, -4.8945, -4.8946, -4.895, -4.8951, -4.8953, -4.8956, -4.8958, -5.0097, -5.4199, -4.9831, -5.434, -5.3163, -5.2694, -5.4355, -5.4357, -5.479, -5.4369, -5.4246, -4.3753, -4.874, -6.0049, -6.1935, -5.791, -4.8722, -4.8043, -6.2598, -3.9674, -4.9999, -4.7709, -5.1752, -4.1856, -4.8878, -4.3872, -4.206, -4.9797, -4.5872, -4.6011, -4.8485, -4.4473, -4.2894, -3.8358, -3.4353, -4.8596, -4.3676, -4.5114, -4.7244, -4.4339, -4.7962, -4.7098, -4.8397, -4.7223, -4.6524, -4.7378, -4.8039, -4.8271, -5.975, -6.0948, -6.3646, -6.2924, -6.2925, -6.537, -6.5371, -6.4504, -6.2275, -6.5379, -6.2967, -6.5847, -6.6365, -6.231, -6.3369, -6.6371, -6.6373, -6.6374, -6.6376, -6.6897, -6.6898, -6.6386, -6.8052, -6.8054, -6.3428, -6.8057, -6.8059, -6.8061, -6.8062, -6.8065, -5.6884, -5.6539, -6.309, -5.8348, -5.5908, -6.4338, -6.113, -4.7361, -5.2312, -6.2331, -6.2339, -5.3616, -5.872, -6.131, -5.3558, -4.2876, -5.5083, -4.3327, -5.1555, -5.6597, -4.4673, -4.4887, -5.0466, -5.4536, -5.2987, -3.8149, -5.3348, -5.708, -3.68, -5.1483, -5.1981, -5.2941, -5.1883, -4.9314, -5.096, -5.1737, -4.8511, -4.9992, -5.0962, -5.2711, -5.3847, -5.4521, -5.5317, -5.0494, -5.8915, -5.8915, -5.8919, -5.8162, -5.8926, -6.0982, -5.8218, -6.2396, -6.2781, -6.2782, -6.2786, -6.0412, -6.1366, -6.1054, -6.1728, -6.173, -6.1075, -6.1086, -6.0769, -6.3247, -6.2862, -6.048, -6.3266, -6.3267, -6.3269, -6.5508, -5.9631, -6.4115, -6.3285, -6.1808, -6.1823, -5.6982, -5.7864, -5.7661, -5.9558, -4.8995, -5.5074, -5.8345, -5.2987, -5.5842, -5.183, -3.4897, -5.142, -5.1229, -5.5856, -5.1164, -5.4195, -4.4813, -4.7867, -4.969, -3.8017, -4.7182, -5.6727, -5.2074, -5.3301, -5.0863, -5.0357, -5.05, -5.0868, -5.4035, -5.1355, -4.8966, -4.9428, -5.1415, -5.4284, -5.2946, -5.3016, -5.4963, -5.4928, -6.1216, -6.1594, -5.922, -5.808, -6.1234, -5.7325, -6.0221, -6.2897, -6.2076, -6.485, -6.4854, -6.4857, -6.4858, -6.4859, -6.4859, -6.486, -6.4861, -6.4862, -6.4862, -6.4862, -6.4864, -6.4873, -6.3915, -6.2177, -6.2596, -6.6662, -6.3942, -6.6061, -6.4949, -6.2628, -6.2221, -6.3969, -6.3991, -4.3563, -5.4369, -5.7379, -5.5844, -6.2857, -6.3233, -4.9786, -5.5116, -5.523, -6.1146, -5.7682, -4.2135, -5.8698, -5.0187, -4.3592, -5.8203, -4.1132, -5.8232, -5.468, -4.4795, -5.2558, -3.5887, -5.4133, -5.3123, -5.7202, -4.8664, -4.4118, -5.38, -4.8361, -4.8846, -4.503, -5.0271, -4.7714, -5.5461, -5.5307, -5.6324, -5.327, -5.3697, -5.4041, -5.5633, -5.5217], \"loglift\": [30.0, 29.0, 28.0, 27.0, 26.0, 25.0, 24.0, 23.0, 22.0, 21.0, 20.0, 19.0, 18.0, 17.0, 16.0, 15.0, 14.0, 13.0, 12.0, 11.0, 10.0, 9.0, 8.0, 7.0, 6.0, 5.0, 4.0, 3.0, 2.0, 1.0, 1.2258, 1.2258, 1.2255, 1.225, 1.225, 1.2249, 1.2245, 1.2245, 1.2242, 1.2239, 1.2237, 1.2215, 1.2214, 1.2212, 1.2211, 1.221, 1.2197, 1.2195, 1.2193, 1.2187, 1.2182, 1.2167, 1.2141, 1.2135, 1.2133, 1.2119, 1.2089, 1.2075, 1.2075, 1.2063, 1.1962, 1.2046, 1.198, 1.2027, 1.1302, 1.1617, 1.0817, 1.0524, 1.1562, 1.0975, 1.068, 1.1144, 0.9928, 0.9474, 0.7158, 0.1739, 1.1023, 0.5131, 0.4581, 0.8423, 0.1969, 0.858, 0.5273, 1.0124, 0.5171, -0.6404, 0.0259, 0.3895, 0.454, 1.3188, 1.3104, 1.3088, 1.3069, 1.3069, 1.3035, 1.3033, 1.3031, 1.3028, 1.3026, 1.3026, 1.3023, 1.2993, 1.2993, 1.2987, 1.2987, 1.2985, 1.2984, 1.2982, 1.2974, 1.2973, 1.2972, 1.2932, 1.2929, 1.2929, 1.2926, 1.2924, 1.2923, 1.2922, 1.2919, 1.2918, 1.2885, 1.2905, 1.268, 1.2468, 1.2789, 1.2636, 1.1859, 1.2124, 1.2645, 1.264, 1.188, 1.2311, 1.2458, 1.1572, 0.9562, 1.0543, 0.7471, 0.9347, 1.0675, 0.6924, 0.6803, 0.8246, 0.9585, 0.8717, 0.197, 0.8608, 1.0053, -0.0708, 0.6804, 0.6666, 0.7218, 0.6449, 0.2515, 0.3519, 0.2292, -0.2202, -0.0298, -0.0056, -0.5074, -0.1476, -0.1711, -0.3384, 1.426, 1.4122, 1.4122, 1.4118, 1.4116, 1.4111, 1.4091, 1.4059, 1.4058, 1.405, 1.405, 1.4046, 1.4036, 1.4034, 1.4018, 1.4011, 1.4009, 1.3997, 1.3986, 1.3985, 1.3976, 1.3969, 1.3966, 1.3957, 1.3956, 1.3954, 1.3947, 1.3945, 1.3941, 1.3938, 1.393, 1.3915, 1.3716, 1.3704, 1.3681, 1.3743, 1.2785, 1.2897, 1.3218, 1.1864, 1.2448, 1.0923, 0.5222, 1.0604, 1.0449, 1.1641, 0.9234, 0.9861, 0.3995, 0.5811, 0.6841, -0.1926, 0.3616, 1.0762, 0.6289, 0.5558, 0.2101, 0.124, 0.119, 0.1571, 0.6123, 0.1016, -0.345, -0.3119, -0.0508, 0.438, -0.0578, -0.538, 0.6114, -0.5233, 1.5151, 1.515, 1.514, 1.5137, 1.5133, 1.5112, 1.5093, 1.5074, 1.5061, 1.5032, 1.5027, 1.5025, 1.5023, 1.5023, 1.5023, 1.5022, 1.502, 1.502, 1.502, 1.5019, 1.5017, 1.5008, 1.4966, 1.496, 1.4949, 1.4939, 1.4938, 1.4933, 1.4933, 1.4918, 1.4916, 1.4912, 1.4891, 1.3201, 1.3847, 1.4114, 1.3597, 1.4689, 1.4741, 1.2353, 1.327, 1.2823, 1.4174, 1.3145, 0.8771, 1.3253, 1.0459, 0.7753, 1.2834, 0.6504, 1.2806, 1.1333, 0.7034, 0.9689, 0.0205, 0.9883, 0.914, 1.1698, 0.5815, 0.2191, 0.9096, 0.4603, 0.4831, -0.4911, 0.1662, -0.2198, 0.878, 0.8091, 0.9974, -0.3575, -0.21, -0.1647, 0.3015, -0.3527]}, \"token.table\": {\"Topic\": [1, 1, 2, 3, 4, 2, 1, 2, 3, 4, 1, 2, 3, 4, 1, 2, 3, 4, 2, 4, 1, 2, 3, 4, 4, 4, 3, 4, 2, 3, 2, 3, 1, 2, 3, 4, 3, 2, 3, 2, 1, 2, 4, 1, 2, 3, 4, 4, 1, 2, 3, 4, 1, 2, 3, 4, 4, 2, 3, 1, 2, 4, 1, 3, 4, 1, 2, 3, 4, 1, 2, 3, 4, 2, 2, 3, 4, 3, 2, 1, 2, 3, 4, 1, 2, 3, 4, 4, 4, 1, 2, 3, 4, 2, 3, 1, 3, 4, 3, 1, 2, 3, 4, 2, 3, 4, 4, 3, 3, 3, 2, 2, 1, 2, 3, 4, 4, 1, 2, 3, 4, 1, 2, 3, 1, 3, 4, 2, 3, 4, 1, 3, 1, 2, 3, 4, 1, 2, 3, 4, 3, 1, 2, 3, 4, 2, 3, 1, 3, 1, 3, 4, 1, 2, 3, 4, 1, 2, 4, 1, 2, 3, 4, 1, 3, 2, 1, 1, 2, 3, 4, 1, 4, 2, 1, 2, 3, 4, 2, 3, 4, 1, 2, 3, 4, 2, 3, 1, 2, 3, 4, 4, 1, 4, 1, 2, 3, 4, 2, 1, 2, 3, 4, 2, 2, 3, 4, 3, 4, 1, 2, 3, 4, 1, 2, 3, 4, 1, 2, 3, 4, 3, 1, 2, 3, 4, 2, 1, 3, 4, 2, 3, 1, 2, 3, 4, 3, 1, 3, 4, 1, 2, 3, 4, 4, 1, 3, 4, 4, 3, 1, 2, 3, 4, 1, 2, 4, 1, 2, 3, 4, 1, 4, 1, 2, 3, 4, 1, 4, 1, 2, 3, 4, 4, 2, 3, 4, 4, 1, 2, 3, 4, 3, 4, 4, 1, 2, 3, 4, 2, 1, 4, 1, 2, 3, 4, 4, 4, 3, 1, 2, 3, 4, 2, 1, 2, 3, 4, 2, 3, 1, 2, 3, 4, 2, 4, 3, 1, 2, 3, 4, 4, 1, 2, 3, 3, 1, 2, 3, 4, 2, 1, 3, 4, 1, 3, 4, 2, 3, 4, 3, 1, 2, 3, 4, 1, 2, 3, 4, 1, 2, 3, 4, 1, 2, 3, 4, 1, 2, 3, 4, 1, 2, 3, 4, 2, 4, 1, 2, 3, 4, 1, 2, 3, 4, 1, 3, 4, 1, 4, 1, 4, 1, 2, 3, 4, 1, 2, 3, 4, 2, 3, 1, 2, 3, 4, 1, 2, 3, 4, 1, 2, 3, 4, 4, 2, 4, 1, 3, 4, 2, 1, 2, 3, 4, 1, 2, 3, 4, 1, 2, 3, 4, 4, 1, 2, 3, 4, 4, 2, 3, 1, 2, 3, 4, 1, 3, 4, 1, 2, 3, 4, 2, 2, 1, 1, 2, 3, 4, 1, 2, 3, 4, 3, 4, 1, 2, 2, 3, 4, 2, 3, 4, 3, 4, 2, 3, 4, 1, 2, 3, 4, 2, 2, 2, 4, 2, 4, 1, 2, 3, 4, 3, 1, 2, 3, 4, 1, 2, 3, 4, 1, 2, 3, 4, 4, 1, 2, 3, 4, 2, 2, 3, 1, 2, 3, 4, 1, 2, 3, 4, 1, 2, 3, 4, 1, 2, 3, 4, 1, 2, 3, 4, 1, 3, 4, 2, 3, 1, 4, 1, 2, 1, 2, 3, 4, 4, 1, 2, 3, 4, 1, 2, 3, 4, 2, 2, 3, 4, 1, 2, 3, 4, 3, 1, 2, 4, 1, 2, 3, 4, 1, 2, 3, 4, 3, 2, 4, 2, 2, 3, 1, 4, 2, 4, 4, 4, 1, 2, 3, 4, 1, 2, 3, 4, 1, 2, 3, 4, 1, 2, 3, 4, 1, 2, 3, 4], \"Freq\": [0.9626404627737248, 0.04192396504216051, 0.6623986476661361, 0.2850829622866915, 0.008384793008432102, 0.9801815199071838, 0.06926886138337666, 0.9004951979838965, 0.023089620461125553, 0.023089620461125553, 0.3527180994864938, 0.20851290964118696, 0.1734359715707069, 0.2650257543102937, 0.01620345626918797, 0.21064493149944358, 0.6967486195750826, 0.08101728134593984, 0.026573389322450437, 0.9566420156082157, 0.08712224460986734, 0.0522733467659204, 0.01742444892197347, 0.8537979971766999, 0.9812141802790326, 0.9617920324942264, 0.05062766944020631, 0.9619257193639198, 0.968193835039232, 0.9531452752347389, 0.9734216437423671, 0.9594558466772553, 0.018660113944049362, 0.20526125338454299, 0.09330056972024682, 0.6904242159298265, 0.9485560305819344, 0.03458768295917851, 0.9684551228569982, 0.9370319527927548, 0.02310308471947328, 0.20792776247525951, 0.7624017957426182, 0.012446695984758843, 0.012446695984758843, 0.7716951510550483, 0.21159383174090032, 0.9567016458756862, 0.039391975695422604, 0.059087963543133906, 0.07878395139084521, 0.8272314896038747, 0.25441047564059044, 0.6269401006857407, 0.11811914940455984, 0.009086088415735372, 0.9705822173327188, 0.04872367905261554, 0.9257499019996953, 0.013980869138444967, 0.32155999018423426, 0.6571008495069135, 0.9816273123209511, 0.008046125510827468, 0.008046125510827468, 0.3417953813239519, 0.03869381675365493, 0.15799975174409095, 0.4611013163143879, 0.06643055164905476, 0.18031149733314863, 0.02847023642102347, 0.7307360681396023, 0.9557462871214785, 0.8318522958845008, 0.02559545525798464, 0.1279772762899232, 0.9435311458224188, 0.9370432069959573, 0.05581510723011241, 0.15947173494317832, 0.5980190060369187, 0.19136608193181398, 0.13652412519427995, 0.3669085864596274, 0.43517064905676733, 0.05972930477249748, 0.951137873362483, 0.9511382639522553, 0.9757054118583139, 0.01016359804019077, 0.005081799020095385, 0.01016359804019077, 0.9107835725479765, 0.060718904836531765, 0.9843793210147455, 0.00863490632469075, 0.00863490632469075, 0.9484922864836798, 0.21665805553089054, 0.18957579858952922, 0.4712312707796869, 0.12457838193026206, 0.8495717968328995, 0.013274559325514055, 0.13274559325514054, 0.9842420726358682, 0.9861578576163895, 0.9685397066722053, 0.968479161545084, 0.9370376572656927, 0.9557441334718012, 0.01830896516379287, 0.06408137807327505, 0.8513668801163685, 0.07323586065517149, 0.9511481601065294, 0.2959851004208359, 0.15800708368330338, 0.13797801673753254, 0.40725769456400734, 0.03932922967017089, 0.9439015120841013, 0.9594520962350231, 0.984379947155739, 0.008634911817155606, 0.008634911817155606, 0.048647134019569105, 0.7621384329732493, 0.19458853607827642, 0.04288745260666826, 0.9435239573467017, 0.007784556894182888, 0.5371344256986192, 0.43593518607424175, 0.023353670682548663, 0.8514239564809112, 0.009009777317258319, 0.10361243914847067, 0.03153422061040412, 0.9613196218902267, 0.01936696781132049, 0.5164524749685463, 0.303415829044021, 0.16139139842767072, 0.9252225646559246, 0.034267502394663876, 0.036971042070301136, 0.9612470938278296, 0.9775045057985693, 0.009399081786524705, 0.009399081786524705, 0.14384352523340155, 0.10069046766338109, 0.18699658280342202, 0.5753741009336062, 0.042477905006468517, 0.9345139101423074, 0.9780026185625954, 0.19629158217283482, 0.335049424743287, 0.040612051484034795, 0.42981087820603486, 0.9789090461000977, 0.02082785204468293, 0.9557689740329159, 0.9883480941339229, 0.006693014657638856, 0.5086691139805531, 0.20079043972916572, 0.28779963027847083, 0.9834266693600834, 0.013112355591467778, 0.9607747345946056, 0.00683639243577233, 0.34865601422438885, 0.4101835461463398, 0.23243734281625922, 0.7610760261605832, 0.031711501090024304, 0.20612475708515796, 0.017707389045782455, 0.9030768413349052, 0.07082955618312982, 0.017707389045782455, 0.02615318648385655, 0.9676678999026924, 0.18100363518213128, 0.33519191700394685, 0.3687111087043415, 0.11396525178134193, 0.9301447907789222, 0.9748196687600843, 0.014549547294926631, 0.0938236712849941, 0.7193148131849547, 0.14073550692749115, 0.06254911418999606, 0.9481156459213652, 0.8664741673149698, 0.11180311836322192, 0.01118031183632219, 0.01118031183632219, 0.9370410496063605, 0.04429694221756995, 0.04429694221756995, 0.9302357865689689, 0.9485556561793361, 0.9511511127500942, 0.8285573033574491, 0.06935061129423584, 0.0073000643467616665, 0.09490083650790167, 0.005543567470778089, 0.038804972295446626, 0.16076345665256458, 0.7982737157920449, 0.15440592283782192, 0.37057421481077263, 0.09264355370269316, 0.3793974104015053, 0.9594541833795437, 0.7997193183423463, 0.0066092505648127796, 0.1916682663795706, 0.0066092505648127796, 0.937045864721331, 0.9843771059721187, 0.008634886894492268, 0.008634886894492268, 0.03458731644266738, 0.9684448603946867, 0.6832478838186078, 0.0650712270303436, 0.05964862477781496, 0.1952136810910308, 0.9677066647401605, 0.9843748675305418, 0.00863486725903984, 0.00863486725903984, 0.8968253018694177, 0.003865626301161283, 0.09664065752903207, 0.003865626301161283, 0.9511411150718357, 0.9746529398874924, 0.012495550511378108, 0.012495550511378108, 0.9617972278442707, 0.9435475802931891, 0.009592647997364253, 0.21103825594201356, 0.2206309039393778, 0.5563735838471267, 0.023084555999637213, 0.9233822399854885, 0.046169111999274426, 0.017723883725271988, 0.12406718607690391, 0.07089553490108795, 0.7975747676372394, 0.9843694435365408, 0.008634819680145093, 0.3112658830401322, 0.4993223540435454, 0.14914823562339669, 0.038908235380016525, 0.9736007235562564, 0.014751526114488734, 0.455489126294334, 0.22027752828988284, 0.1866758714321041, 0.13814014485975704, 0.9618054697521926, 0.20570842350892843, 0.017142368625744035, 0.7714065881584816, 0.9511345814025552, 0.45123549753703973, 0.32893802624195423, 0.06325731273883735, 0.16025185893838795, 0.932333258767091, 0.9511398098488301, 0.9301852503058147, 0.5922640104781869, 0.07020758786823492, 0.16741809414732942, 0.17101848326877736, 0.955707509449521, 0.9851474108067577, 0.01539292829385559, 0.056288876683344036, 0.009381479447224006, 0.6848479996473524, 0.25329994507504816, 0.9511370588664955, 0.9511425025443707, 0.9612620690776104, 0.9848534364626836, 0.00965542584767337, 0.00965542584767337, 0.00965542584767337, 0.9779765680678688, 0.009317659134114076, 0.6149655028515291, 0.009317659134114076, 0.37270636536456303, 0.9105974818344618, 0.060706498788964114, 0.010791273352607569, 0.6798502212142769, 0.27697601605026095, 0.03237382005782271, 0.04252061548220317, 0.9354535406084697, 0.9747858683143588, 0.6706341979693626, 0.09935321451397965, 0.08941789306258169, 0.13909450031957152, 0.9511368867552391, 0.023820266317918337, 0.023820266317918337, 0.9289903863988151, 0.9613185686171636, 0.08456138824200744, 0.30572194210571924, 0.44232110772742356, 0.1691227764840149, 0.9501581774580881, 0.9258722280946082, 0.06440850282397274, 0.008051062852996593, 0.15188329648654467, 0.050627765495514884, 0.8100442479282381, 0.6826431528907515, 0.24297468153738613, 0.06942133758211032, 0.9485549258771224, 0.9691067544859142, 0.007752854035887314, 0.007752854035887314, 0.015505708071774628, 0.42749545211536794, 0.18467803531383895, 0.13679854467691774, 0.24965734403537487, 0.05800532044723953, 0.5495240884475324, 0.3388731878759783, 0.051899497242266945, 0.48949623703669976, 0.225096809732205, 0.26082646207065024, 0.021437791403067143, 0.09195668279253737, 0.011494585349067171, 0.6322021941986944, 0.2643754630285449, 0.009061375033781318, 0.1631047506080637, 0.6705417524998175, 0.1631047506080637, 0.9439308085912641, 0.03933045035796934, 0.010235085569554978, 0.2661122248084294, 0.19446662582154456, 0.5322244496168588, 0.9216528317096272, 0.06144352211397515, 0.008777646016282165, 0.01755529203256433, 0.9682803902428784, 0.01880156097558987, 0.009400780487794936, 0.9736003199276065, 0.01475151999890313, 0.984371491520421, 0.008634837644915974, 0.9615507598688813, 0.022361645578346075, 0.011180822789173038, 0.011180822789173038, 0.05100765429252083, 0.06801020572336111, 0.8671301229728542, 0.017002551430840278, 0.032490864015331744, 0.9422350564446207, 0.9708477479949572, 0.0082978439999569, 0.0082978439999569, 0.0165956879999138, 0.17484654811863848, 0.7531851303572119, 0.06724867235332249, 0.0134497344706645, 0.013473003218021971, 0.5928121415929668, 0.2290410547063735, 0.16167603861626367, 0.9511310728773787, 0.9438455346224535, 0.03932689727593556, 0.984375691046479, 0.00863487448286385, 0.00863487448286385, 0.948099430694855, 0.9701019712115058, 0.01672589605537079, 0.008362948027685394, 0.008362948027685394, 0.023418672333390643, 0.1639307063337345, 0.292733404167383, 0.5152107913345941, 0.8703356377862044, 0.11063588615926327, 0.007375725743950884, 0.014751451487901768, 0.9511427062525942, 0.7790895657079325, 0.048145984397681224, 0.14443795319304367, 0.021884538362582372, 0.9767984160194907, 0.029782241744483642, 0.9530317358234766, 0.01921628092846025, 0.076865123713841, 0.384325618569205, 0.5284477255326568, 0.9843816199991178, 0.008634926491220331, 0.008634926491220331, 0.014174614611838427, 0.8575641840162248, 0.12757153150654585, 0.007087307305919214, 0.9557503684951737, 0.9501542681817291, 0.9844426650322249, 0.14250636661167929, 0.08957543044162697, 0.4234474893604184, 0.34608689034264967, 0.04524627639220702, 0.11311569098051755, 0.04524627639220702, 0.7918098368636228, 0.9435292194663079, 0.9379901012867102, 0.9684594716133299, 0.9557435047794614, 0.9481173320562917, 0.12090546078048163, 0.8705193176194678, 0.03545792176504717, 0.07091584353009434, 0.8864480441261792, 0.046229161817935606, 0.9245832363587122, 0.02897330494536361, 0.9271457582516355, 0.02897330494536361, 0.024351796847078853, 0.07305539054123657, 0.9010164833419176, 0.024351796847078853, 0.9653770343946455, 0.9370378753370624, 0.9249239591445967, 0.06851288586256271, 0.95976832892934, 0.04084120548635489, 0.09081256513074298, 0.11099313515979697, 0.7063199510168898, 0.09081256513074298, 0.9650329814527828, 0.02289929945292797, 0.19464404534988775, 0.21754334480281573, 0.5724824863231993, 0.9855351958817303, 0.0035881135772393093, 0.005980189295398849, 0.004784151436319079, 0.956147258933869, 0.003319955760187045, 0.033199557601870454, 0.00663991152037409, 0.9511418824275092, 0.003086173655703467, 0.25923858707909125, 0.2252906768663531, 0.5123048268467756, 0.9653706723230434, 0.9370346270738427, 0.9435306890685297, 0.03637570875709586, 0.5224874530564678, 0.2678574917567968, 0.17195789594263497, 0.34443555029802264, 0.24341982882569016, 0.19571796035264424, 0.21676290232604684, 0.15216842210751852, 0.31797953033502147, 0.39983564705492797, 0.13013023683677447, 0.8421190336767314, 0.07155259763266344, 0.016512137915230027, 0.06604855166092011, 0.4565868146066265, 0.25426690873303154, 0.139436691885856, 0.1476388502320828, 0.8786107168168157, 0.11074925001892635, 0.00738328333459509, 0.033506390724213776, 0.9716853310021994, 0.9736106629235846, 0.014751676710963403, 0.03539710271768777, 0.9557217733775698, 0.9581073070652791, 0.029708753707450516, 0.007427188426862629, 0.007427188426862629, 0.9663306299476714, 0.06675793870272291, 0.5140361280109664, 0.26703175481089164, 0.15020536208112656, 0.023880633912392337, 0.8716431378023204, 0.08358221869337318, 0.011940316956196169, 0.9653636688066609, 0.20794973692073257, 0.02310552632452584, 0.7624823687093527, 0.14043224990821357, 0.017554031238526696, 0.8250394682107547, 0.017554031238526696, 0.9649843757909421, 0.987965946366373, 0.006174787164789831, 0.006174787164789831, 0.7465194843886185, 0.0035718635616680313, 0.22502740438508598, 0.02857490849334425, 0.032289031724177124, 0.19373419034506276, 0.30136429609231985, 0.4735724652879312, 0.9594447508241529, 0.04252242542060844, 0.9354933592533856, 0.9557432422070077, 0.9482917696516406, 0.03793167078606562, 0.9748066841683336, 0.014549353495049754, 0.044293827208815355, 0.9301703713851225, 0.9842320673295625, 0.9511495265444148, 0.008173634223682356, 0.36781354006570605, 0.016347268447364713, 0.6048489325524944, 0.4828420877314041, 0.1175833063387357, 0.3527499190162071, 0.04503190455526048, 0.022332958478031413, 0.022332958478031413, 0.9379842560773194, 0.044665916956062826, 0.4870397375396386, 0.19338342519956236, 0.13966580708857282, 0.17905872703663184, 0.21989395596210734, 0.15165100411179816, 0.29192818291521144, 0.3374234841487509], \"Term\": [\"ability\", \"access\", \"access\", \"access\", \"access\", \"accompanying_sweet\", \"active\", \"active\", \"active\", \"active\", \"also\", \"also\", \"also\", \"also\", \"always\", \"always\", \"always\", \"always\", \"apartment\", \"apartment\", \"art\", \"art\", \"art\", \"art\", \"august\", \"automotive\", \"balance\", \"balance\", \"barbecue\", \"beer\", \"berries_mushroom\", \"boss\", \"break\", \"break\", \"break\", \"break\", \"brine\", \"broad_sense\", \"broad_sense\", \"buns_cake\", \"bus\", \"bus\", \"bus\", \"business\", \"business\", \"business\", \"business\", \"cabin\", \"cafe\", \"cafe\", \"cafe\", \"cafe\", \"care\", \"care\", \"care\", \"care\", \"castle\", \"casual\", \"casual\", \"centre\", \"centre\", \"centre\", \"centric\", \"centric\", \"centric\", \"child\", \"child\", \"child\", \"child\", \"city\", \"city\", \"city\", \"city\", \"coastline_lake\", \"coffee\", \"coffee\", \"coffee\", \"coffee_break\", \"combination\", \"common\", \"common\", \"common\", \"common\", \"company\", \"company\", \"company\", \"company\", \"conference_center\", \"conference_convention\", \"contribute\", \"contribute\", \"contribute\", \"contribute\", \"cooking\", \"cooking\", \"cooperate_closely\", \"cooperate_closely\", \"cooperate_closely\", \"cooperation_team\", \"country\", \"country\", \"country\", \"country\", \"countryside\", \"countryside\", \"countryside\", \"countryside_visite\", \"crayfish\", \"crayfish_party\", \"creativity\", \"crucial_cinnamon\", \"culinary_nation\", \"culture\", \"culture\", \"culture\", \"culture\", \"dalarna\", \"day\", \"day\", \"day\", \"day\", \"disability\", \"disability\", \"discussion\", \"discussions_take\", \"discussions_take\", \"discussions_take\", \"dress\", \"dress\", \"dress\", \"easter\", \"easter\", \"eat\", \"eat\", \"eat\", \"eat\", \"education\", \"education\", \"education\", \"education\", \"encourages_individualism\", \"enjoy\", \"enjoy\", \"enjoy\", \"enjoy\", \"ensure\", \"ensure\", \"established_technology\", \"established_technology\", \"european_ranking\", \"european_ranking\", \"european_ranking\", \"event\", \"event\", \"event\", \"event\", \"exciting\", \"exciting\", \"facility\", \"family\", \"family\", \"family\", \"family\", \"father\", \"father\", \"fika\", \"finding_accommodation\", \"food\", \"food\", \"food\", \"food\", \"foreign\", \"foreign\", \"frequently_preferably\", \"friend\", \"friend\", \"friend\", \"friend\", \"full\", \"full\", \"full\", \"game\", \"game\", \"game\", \"game\", \"gather\", \"gather\", \"get\", \"get\", \"get\", \"get\", \"giving_u\", \"global_success\", \"global_success\", \"great\", \"great\", \"great\", \"great\", \"grill\", \"group\", \"group\", \"group\", \"group\", \"hamburger\", \"hang\", \"hang\", \"hang\", \"heap\", \"heavy_truck\", \"high\", \"high\", \"high\", \"high\", \"holiday\", \"holiday\", \"holiday\", \"holiday\", \"home\", \"home\", \"home\", \"home\", \"hours_flexible\", \"idea\", \"idea\", \"idea\", \"idea\", \"incorporate\", \"independent_thinke\", \"independent_thinke\", \"independent_thinke\", \"individual_responsibility\", \"individual_responsibility\", \"industry\", \"industry\", \"industry\", \"industry\", \"informal\", \"informal_personal\", \"informal_personal\", \"informal_personal\", \"initiative\", \"initiative\", \"initiative\", \"initiative\", \"inn\", \"intensive_nation\", \"intensive_nation\", \"intensive_nation\", \"kindergarten\", \"labour_force\", \"large\", \"large\", \"large\", \"large\", \"lead\", \"lead\", \"lead\", \"least\", \"least\", \"least\", \"least\", \"lectures_seminar\", \"lectures_seminar\", \"life\", \"life\", \"life\", \"life\", \"life_revolve\", \"life_revolve\", \"long\", \"long\", \"long\", \"long\", \"lucia_procession\", \"main\", \"main\", \"main\", \"major_reason\", \"make\", \"make\", \"make\", \"make\", \"make_reservation\", \"manor_house\", \"manufacturer\", \"many\", \"many\", \"many\", \"many\", \"market\", \"masters_programme\", \"masters_programme\", \"meeting\", \"meeting\", \"meeting\", \"meeting\", \"meeting_destination\", \"meeting_venue\", \"merge\", \"mix\", \"mix\", \"mix\", \"mix\", \"moment\", \"much\", \"much\", \"much\", \"much\", \"mushroom\", \"mushroom\", \"nature\", \"nature\", \"nature\", \"nature\", \"nice\", \"nice\", \"nine_year\", \"offer\", \"offer\", \"offer\", \"offer\", \"offering_wealth\", \"office\", \"office\", \"office\", \"often_describe\", \"open\", \"open\", \"open\", \"open\", \"open_face\", \"opinion\", \"opinion\", \"opinion\", \"option\", \"option\", \"option\", \"outdoors\", \"outdoors\", \"outdoors\", \"paper_hat\", \"parental_leave\", \"parental_leave\", \"parental_leave\", \"parental_leave\", \"part\", \"part\", \"part\", \"part\", \"people\", \"people\", \"people\", \"people\", \"place\", \"place\", \"place\", \"place\", \"play\", \"play\", \"play\", \"play\", \"plenty\", \"plenty\", \"plenty\", \"plenty\", \"policy\", \"policy\", \"popular\", \"popular\", \"popular\", \"popular\", \"possibility\", \"possibility\", \"possibility\", \"possibility\", \"practical\", \"practical\", \"practical\", \"practical_matter\", \"practical_matter\", \"presumption\", \"presumption\", \"prize\", \"prize\", \"prize\", \"prize\", \"product\", \"product\", \"product\", \"product\", \"productive\", \"productive\", \"programme\", \"programme\", \"programme\", \"programme\", \"provide\", \"provide\", \"provide\", \"provide\", \"public\", \"public\", \"public\", \"public\", \"quaint_village\", \"quality\", \"quality\", \"questioning_old\", \"questioning_old\", \"questioning_old\", \"reindeer\", \"relation\", \"relation\", \"relation\", \"relation\", \"relax\", \"relax\", \"relax\", \"relax\", \"require\", \"require\", \"require\", \"require\", \"requirement\", \"research\", \"research\", \"research\", \"research\", \"resort\", \"respect\", \"respect\", \"restaurant\", \"restaurant\", \"restaurant\", \"restaurant\", \"rewarding_especially\", \"rewarding_especially\", \"rewarding_especially\", \"right\", \"right\", \"right\", \"right\", \"rivers_provide\", \"sandwich\", \"scholarship\", \"school\", \"school\", \"school\", \"school\", \"sector\", \"sector\", \"sector\", \"sector\", \"seem_oddly\", \"self_catering\", \"shared_responsibility\", \"shellfish\", \"shopping\", \"short\", \"short\", \"sing\", \"sing\", \"sing\", \"ski\", \"ski\", \"solstice\", \"solstice\", \"solstice\", \"solution\", \"solution\", \"solution\", \"solution\", \"soon\", \"soup\", \"special\", \"special\", \"spring\", \"spring\", \"start\", \"start\", \"start\", \"start\", \"start_up\", \"store\", \"store\", \"store\", \"store\", \"student\", \"student\", \"student\", \"student\", \"study\", \"study\", \"study\", \"study\", \"suit_every\", \"summer\", \"summer\", \"summer\", \"summer\", \"sunshine\", \"surprise\", \"surprised\", \"swede\", \"swede\", \"swede\", \"swede\", \"sweden\", \"sweden\", \"sweden\", \"sweden\", \"swedish\", \"swedish\", \"swedish\", \"swedish\", \"system\", \"system\", \"system\", \"system\", \"take\", \"take\", \"take\", \"take\", \"teacher\", \"teacher\", \"teacher\", \"teamwork\", \"teamwork\", \"tech_companie\", \"tech_companie\", \"tend\", \"tend\", \"term\", \"term\", \"term\", \"term\", \"textile\", \"time\", \"time\", \"time\", \"time\", \"tradition\", \"tradition\", \"tradition\", \"tradition\", \"tradition_observe\", \"tree\", \"tree\", \"tree\", \"turn\", \"turn\", \"turn\", \"turn\", \"typically\", \"union\", \"union\", \"union\", \"university\", \"university\", \"university\", \"university\", \"usually\", \"usually\", \"usually\", \"usually\", \"usually_call\", \"vacation\", \"vacation\", \"vast_forest\", \"vegetable\", \"vegetable\", \"vibrant_international\", \"vibrant_international\", \"view\", \"view\", \"volvo_car\", \"wide_selection\", \"winter\", \"winter\", \"winter\", \"winter\", \"work\", \"work\", \"work\", \"work\", \"workplace\", \"workplace\", \"workplace\", \"workplace\", \"world\", \"world\", \"world\", \"world\", \"year\", \"year\", \"year\", \"year\"]}, \"R\": 30, \"lambda.step\": 0.01, \"plot.opts\": {\"xlab\": \"PC1\", \"ylab\": \"PC2\"}, \"topic.order\": [2, 3, 1, 4]};\n",
              "\n",
              "function LDAvis_load_lib(url, callback){\n",
              "  var s = document.createElement('script');\n",
              "  s.src = url;\n",
              "  s.async = true;\n",
              "  s.onreadystatechange = s.onload = callback;\n",
              "  s.onerror = function(){console.warn(\"failed to load library \" + url);};\n",
              "  document.getElementsByTagName(\"head\")[0].appendChild(s);\n",
              "}\n",
              "\n",
              "if(typeof(LDAvis) !== \"undefined\"){\n",
              "   // already loaded: just create the visualization\n",
              "   !function(LDAvis){\n",
              "       new LDAvis(\"#\" + \"ldavis_el397981368659731929601368246165\", ldavis_el397981368659731929601368246165_data);\n",
              "   }(LDAvis);\n",
              "}else if(typeof define === \"function\" && define.amd){\n",
              "   // require.js is available: use it to load d3/LDAvis\n",
              "   require.config({paths: {d3: \"https://d3js.org/d3.v5\"}});\n",
              "   require([\"d3\"], function(d3){\n",
              "      window.d3 = d3;\n",
              "      LDAvis_load_lib(\"https://cdn.jsdelivr.net/gh/bmabey/pyLDAvis@3.4.0/pyLDAvis/js/ldavis.v3.0.0.js\", function(){\n",
              "        new LDAvis(\"#\" + \"ldavis_el397981368659731929601368246165\", ldavis_el397981368659731929601368246165_data);\n",
              "      });\n",
              "    });\n",
              "}else{\n",
              "    // require.js not available: dynamically load d3 & LDAvis\n",
              "    LDAvis_load_lib(\"https://d3js.org/d3.v5.js\", function(){\n",
              "         LDAvis_load_lib(\"https://cdn.jsdelivr.net/gh/bmabey/pyLDAvis@3.4.0/pyLDAvis/js/ldavis.v3.0.0.js\", function(){\n",
              "                 new LDAvis(\"#\" + \"ldavis_el397981368659731929601368246165\", ldavis_el397981368659731929601368246165_data);\n",
              "            })\n",
              "         });\n",
              "}\n",
              "</script>"
            ]
          },
          "metadata": {},
          "execution_count": 30
        }
      ]
    },
    {
      "cell_type": "code",
      "source": [
        "# Save the report\n",
        "pyLDAvis.save_html(vis, 'scom-gpols-topics.html')"
      ],
      "metadata": {
        "colab": {
          "base_uri": "https://localhost:8080/"
        },
        "id": "9XVx2PhStpaZ",
        "outputId": "55a65b64-94dc-4125-92cc-dc59e9ed9b20"
      },
      "execution_count": null,
      "outputs": [
        {
          "output_type": "stream",
          "name": "stderr",
          "text": [
            "/usr/local/lib/python3.10/dist-packages/ipykernel/ipkernel.py:283: DeprecationWarning: `should_run_async` will not call `transform_cell` automatically in the future. Please pass the result to `transformed_cell` argument and any exception that happen during thetransform in `preprocessing_exc_tuple` in IPython 7.17 and above.\n"
          ]
        }
      ]
    },
    {
      "cell_type": "markdown",
      "source": [
        "# some test"
      ],
      "metadata": {
        "id": "cObdKtm1j8i9"
      }
    },
    {
      "cell_type": "code",
      "source": [
        "from itertools import chain\n",
        "# Create a new DataFrame to store the separated sentences and corresponding IDs\n",
        "new_df = pd.DataFrame(columns=['id', 'sentence_number', 'sentence'])\n",
        "# Iterate through each row in the original DataFrame\n",
        "for index, row in df.iterrows():\n",
        "    # Split the text into sentences\n",
        "    sentences = str(row['text']).split('. ')\n",
        "    # Create a list of sentence numbers\n",
        "    sentence_numbers = list(range(1, len(sentences) + 1))\n",
        "    # Create a list of IDs corresponding to each sentence\n",
        "    ids = [row['id']] * len(sentences)\n",
        "    # Create a temporary DataFrame\n",
        "    temp_df = pd.DataFrame({'id': ids, 'sentence_number': sentence_numbers, 'sentence': sentences})\n",
        "    # Append the temporary DataFrame to the new DataFrame\n",
        "    new_df = pd.concat([new_df, temp_df], ignore_index=True)\n",
        "# Display the new DataFrame\n",
        "new_df.head()"
      ],
      "metadata": {
        "colab": {
          "base_uri": "https://localhost:8080/",
          "height": 206
        },
        "id": "jRV_wnMZjU9s",
        "outputId": "41955dc6-26bc-405b-d745-cfab784aa67d"
      },
      "execution_count": null,
      "outputs": [
        {
          "output_type": "execute_result",
          "data": {
            "text/plain": [
              "     id sentence_number                                           sentence\n",
              "0  4185               1  Several Swedish universities place high in Eur...\n",
              "1  4185               2  Many Master&#039;s programmes are taught in En...\n",
              "2  4185               3  More than 20,000 foreign students are studying...\n",
              "3  4185               4  A good part of their social life revolves arou...\n",
              "4  4185               5  The union can often help you with finding acco..."
            ],
            "text/html": [
              "\n",
              "  <div id=\"df-4ecc2fde-eda2-4054-aea4-9bcccf9e9f6e\" class=\"colab-df-container\">\n",
              "    <div>\n",
              "<style scoped>\n",
              "    .dataframe tbody tr th:only-of-type {\n",
              "        vertical-align: middle;\n",
              "    }\n",
              "\n",
              "    .dataframe tbody tr th {\n",
              "        vertical-align: top;\n",
              "    }\n",
              "\n",
              "    .dataframe thead th {\n",
              "        text-align: right;\n",
              "    }\n",
              "</style>\n",
              "<table border=\"1\" class=\"dataframe\">\n",
              "  <thead>\n",
              "    <tr style=\"text-align: right;\">\n",
              "      <th></th>\n",
              "      <th>id</th>\n",
              "      <th>sentence_number</th>\n",
              "      <th>sentence</th>\n",
              "    </tr>\n",
              "  </thead>\n",
              "  <tbody>\n",
              "    <tr>\n",
              "      <th>0</th>\n",
              "      <td>4185</td>\n",
              "      <td>1</td>\n",
              "      <td>Several Swedish universities place high in Eur...</td>\n",
              "    </tr>\n",
              "    <tr>\n",
              "      <th>1</th>\n",
              "      <td>4185</td>\n",
              "      <td>2</td>\n",
              "      <td>Many Master&amp;#039;s programmes are taught in En...</td>\n",
              "    </tr>\n",
              "    <tr>\n",
              "      <th>2</th>\n",
              "      <td>4185</td>\n",
              "      <td>3</td>\n",
              "      <td>More than 20,000 foreign students are studying...</td>\n",
              "    </tr>\n",
              "    <tr>\n",
              "      <th>3</th>\n",
              "      <td>4185</td>\n",
              "      <td>4</td>\n",
              "      <td>A good part of their social life revolves arou...</td>\n",
              "    </tr>\n",
              "    <tr>\n",
              "      <th>4</th>\n",
              "      <td>4185</td>\n",
              "      <td>5</td>\n",
              "      <td>The union can often help you with finding acco...</td>\n",
              "    </tr>\n",
              "  </tbody>\n",
              "</table>\n",
              "</div>\n",
              "    <div class=\"colab-df-buttons\">\n",
              "\n",
              "  <div class=\"colab-df-container\">\n",
              "    <button class=\"colab-df-convert\" onclick=\"convertToInteractive('df-4ecc2fde-eda2-4054-aea4-9bcccf9e9f6e')\"\n",
              "            title=\"Convert this dataframe to an interactive table.\"\n",
              "            style=\"display:none;\">\n",
              "\n",
              "  <svg xmlns=\"http://www.w3.org/2000/svg\" height=\"24px\" viewBox=\"0 -960 960 960\">\n",
              "    <path d=\"M120-120v-720h720v720H120Zm60-500h600v-160H180v160Zm220 220h160v-160H400v160Zm0 220h160v-160H400v160ZM180-400h160v-160H180v160Zm440 0h160v-160H620v160ZM180-180h160v-160H180v160Zm440 0h160v-160H620v160Z\"/>\n",
              "  </svg>\n",
              "    </button>\n",
              "\n",
              "  <style>\n",
              "    .colab-df-container {\n",
              "      display:flex;\n",
              "      gap: 12px;\n",
              "    }\n",
              "\n",
              "    .colab-df-convert {\n",
              "      background-color: #E8F0FE;\n",
              "      border: none;\n",
              "      border-radius: 50%;\n",
              "      cursor: pointer;\n",
              "      display: none;\n",
              "      fill: #1967D2;\n",
              "      height: 32px;\n",
              "      padding: 0 0 0 0;\n",
              "      width: 32px;\n",
              "    }\n",
              "\n",
              "    .colab-df-convert:hover {\n",
              "      background-color: #E2EBFA;\n",
              "      box-shadow: 0px 1px 2px rgba(60, 64, 67, 0.3), 0px 1px 3px 1px rgba(60, 64, 67, 0.15);\n",
              "      fill: #174EA6;\n",
              "    }\n",
              "\n",
              "    .colab-df-buttons div {\n",
              "      margin-bottom: 4px;\n",
              "    }\n",
              "\n",
              "    [theme=dark] .colab-df-convert {\n",
              "      background-color: #3B4455;\n",
              "      fill: #D2E3FC;\n",
              "    }\n",
              "\n",
              "    [theme=dark] .colab-df-convert:hover {\n",
              "      background-color: #434B5C;\n",
              "      box-shadow: 0px 1px 3px 1px rgba(0, 0, 0, 0.15);\n",
              "      filter: drop-shadow(0px 1px 2px rgba(0, 0, 0, 0.3));\n",
              "      fill: #FFFFFF;\n",
              "    }\n",
              "  </style>\n",
              "\n",
              "    <script>\n",
              "      const buttonEl =\n",
              "        document.querySelector('#df-4ecc2fde-eda2-4054-aea4-9bcccf9e9f6e button.colab-df-convert');\n",
              "      buttonEl.style.display =\n",
              "        google.colab.kernel.accessAllowed ? 'block' : 'none';\n",
              "\n",
              "      async function convertToInteractive(key) {\n",
              "        const element = document.querySelector('#df-4ecc2fde-eda2-4054-aea4-9bcccf9e9f6e');\n",
              "        const dataTable =\n",
              "          await google.colab.kernel.invokeFunction('convertToInteractive',\n",
              "                                                    [key], {});\n",
              "        if (!dataTable) return;\n",
              "\n",
              "        const docLinkHtml = 'Like what you see? Visit the ' +\n",
              "          '<a target=\"_blank\" href=https://colab.research.google.com/notebooks/data_table.ipynb>data table notebook</a>'\n",
              "          + ' to learn more about interactive tables.';\n",
              "        element.innerHTML = '';\n",
              "        dataTable['output_type'] = 'display_data';\n",
              "        await google.colab.output.renderOutput(dataTable, element);\n",
              "        const docLink = document.createElement('div');\n",
              "        docLink.innerHTML = docLinkHtml;\n",
              "        element.appendChild(docLink);\n",
              "      }\n",
              "    </script>\n",
              "  </div>\n",
              "\n",
              "\n",
              "<div id=\"df-5d19d2eb-124e-46f8-9d02-80aa6bf48d1f\">\n",
              "  <button class=\"colab-df-quickchart\" onclick=\"quickchart('df-5d19d2eb-124e-46f8-9d02-80aa6bf48d1f')\"\n",
              "            title=\"Suggest charts.\"\n",
              "            style=\"display:none;\">\n",
              "\n",
              "<svg xmlns=\"http://www.w3.org/2000/svg\" height=\"24px\"viewBox=\"0 0 24 24\"\n",
              "     width=\"24px\">\n",
              "    <g>\n",
              "        <path d=\"M19 3H5c-1.1 0-2 .9-2 2v14c0 1.1.9 2 2 2h14c1.1 0 2-.9 2-2V5c0-1.1-.9-2-2-2zM9 17H7v-7h2v7zm4 0h-2V7h2v10zm4 0h-2v-4h2v4z\"/>\n",
              "    </g>\n",
              "</svg>\n",
              "  </button>\n",
              "\n",
              "<style>\n",
              "  .colab-df-quickchart {\n",
              "      --bg-color: #E8F0FE;\n",
              "      --fill-color: #1967D2;\n",
              "      --hover-bg-color: #E2EBFA;\n",
              "      --hover-fill-color: #174EA6;\n",
              "      --disabled-fill-color: #AAA;\n",
              "      --disabled-bg-color: #DDD;\n",
              "  }\n",
              "\n",
              "  [theme=dark] .colab-df-quickchart {\n",
              "      --bg-color: #3B4455;\n",
              "      --fill-color: #D2E3FC;\n",
              "      --hover-bg-color: #434B5C;\n",
              "      --hover-fill-color: #FFFFFF;\n",
              "      --disabled-bg-color: #3B4455;\n",
              "      --disabled-fill-color: #666;\n",
              "  }\n",
              "\n",
              "  .colab-df-quickchart {\n",
              "    background-color: var(--bg-color);\n",
              "    border: none;\n",
              "    border-radius: 50%;\n",
              "    cursor: pointer;\n",
              "    display: none;\n",
              "    fill: var(--fill-color);\n",
              "    height: 32px;\n",
              "    padding: 0;\n",
              "    width: 32px;\n",
              "  }\n",
              "\n",
              "  .colab-df-quickchart:hover {\n",
              "    background-color: var(--hover-bg-color);\n",
              "    box-shadow: 0 1px 2px rgba(60, 64, 67, 0.3), 0 1px 3px 1px rgba(60, 64, 67, 0.15);\n",
              "    fill: var(--button-hover-fill-color);\n",
              "  }\n",
              "\n",
              "  .colab-df-quickchart-complete:disabled,\n",
              "  .colab-df-quickchart-complete:disabled:hover {\n",
              "    background-color: var(--disabled-bg-color);\n",
              "    fill: var(--disabled-fill-color);\n",
              "    box-shadow: none;\n",
              "  }\n",
              "\n",
              "  .colab-df-spinner {\n",
              "    border: 2px solid var(--fill-color);\n",
              "    border-color: transparent;\n",
              "    border-bottom-color: var(--fill-color);\n",
              "    animation:\n",
              "      spin 1s steps(1) infinite;\n",
              "  }\n",
              "\n",
              "  @keyframes spin {\n",
              "    0% {\n",
              "      border-color: transparent;\n",
              "      border-bottom-color: var(--fill-color);\n",
              "      border-left-color: var(--fill-color);\n",
              "    }\n",
              "    20% {\n",
              "      border-color: transparent;\n",
              "      border-left-color: var(--fill-color);\n",
              "      border-top-color: var(--fill-color);\n",
              "    }\n",
              "    30% {\n",
              "      border-color: transparent;\n",
              "      border-left-color: var(--fill-color);\n",
              "      border-top-color: var(--fill-color);\n",
              "      border-right-color: var(--fill-color);\n",
              "    }\n",
              "    40% {\n",
              "      border-color: transparent;\n",
              "      border-right-color: var(--fill-color);\n",
              "      border-top-color: var(--fill-color);\n",
              "    }\n",
              "    60% {\n",
              "      border-color: transparent;\n",
              "      border-right-color: var(--fill-color);\n",
              "    }\n",
              "    80% {\n",
              "      border-color: transparent;\n",
              "      border-right-color: var(--fill-color);\n",
              "      border-bottom-color: var(--fill-color);\n",
              "    }\n",
              "    90% {\n",
              "      border-color: transparent;\n",
              "      border-bottom-color: var(--fill-color);\n",
              "    }\n",
              "  }\n",
              "</style>\n",
              "\n",
              "  <script>\n",
              "    async function quickchart(key) {\n",
              "      const quickchartButtonEl =\n",
              "        document.querySelector('#' + key + ' button');\n",
              "      quickchartButtonEl.disabled = true;  // To prevent multiple clicks.\n",
              "      quickchartButtonEl.classList.add('colab-df-spinner');\n",
              "      try {\n",
              "        const charts = await google.colab.kernel.invokeFunction(\n",
              "            'suggestCharts', [key], {});\n",
              "      } catch (error) {\n",
              "        console.error('Error during call to suggestCharts:', error);\n",
              "      }\n",
              "      quickchartButtonEl.classList.remove('colab-df-spinner');\n",
              "      quickchartButtonEl.classList.add('colab-df-quickchart-complete');\n",
              "    }\n",
              "    (() => {\n",
              "      let quickchartButtonEl =\n",
              "        document.querySelector('#df-5d19d2eb-124e-46f8-9d02-80aa6bf48d1f button');\n",
              "      quickchartButtonEl.style.display =\n",
              "        google.colab.kernel.accessAllowed ? 'block' : 'none';\n",
              "    })();\n",
              "  </script>\n",
              "</div>\n",
              "    </div>\n",
              "  </div>\n"
            ]
          },
          "metadata": {},
          "execution_count": 41
        }
      ]
    },
    {
      "cell_type": "code",
      "execution_count": null,
      "metadata": {
        "id": "8_njNWzoQMnr"
      },
      "outputs": [],
      "source": [
        "#| include: false\n",
        "#| echo: true\n",
        "#| output: true\n",
        "\n",
        "if False:\n",
        "    # Generate a frequency diagram of the variable 'Könstillhörighet'\n",
        "    df_freq = si.count(df, si._.Könstillhörighet) >> si.arrange(-si._.n)\n",
        "\n",
        "    # Plotting the frequency diagram using plotnine\n",
        "    plot = (p9.ggplot(df_freq, p9.aes(x='Könstillhörighet', y='n')) +\n",
        "            p9.geom_bar(stat='identity') +\n",
        "            #p9.theme_minimal() +\n",
        "            p9.ggtitle('Frequency Diagram of Könstillhörighet') +\n",
        "            some_theme)\n",
        "    #\n",
        "    plot"
      ]
    },
    {
      "cell_type": "code",
      "execution_count": null,
      "metadata": {
        "id": "OH4pAJZPQMns"
      },
      "outputs": [],
      "source": [
        "#| include: false\n",
        "#| echo: true\n",
        "#| output: true\n",
        "\n",
        "if False:\n",
        "    # Save the plotnine plot as a PNG image\n",
        "    plot.save('../fig/genai-p9.png', width=10, height=8, dpi=300)"
      ]
    },
    {
      "cell_type": "markdown",
      "metadata": {
        "id": "wO4BNlzJQMns"
      },
      "source": [
        "## matplotlib"
      ]
    },
    {
      "cell_type": "code",
      "execution_count": null,
      "metadata": {
        "id": "2txQeKL8QMns"
      },
      "outputs": [],
      "source": [
        "#| include: false\n",
        "#| echo: true\n",
        "#| output: true\n",
        "\n",
        "if False:\n",
        "    fig = plot.draw()\n",
        "    #\n",
        "    fig"
      ]
    },
    {
      "cell_type": "code",
      "execution_count": null,
      "metadata": {
        "id": "iBwCzDY3QMnt"
      },
      "outputs": [],
      "source": [
        "#| include: false\n",
        "#| echo: true\n",
        "#| output: true\n",
        "\n",
        "if False:\n",
        "    # Save the matplotlib figure as a PNG image\n",
        "    fig.savefig('../fig/genai-plt.png', format='png', dpi=300)"
      ]
    }
  ],
  "metadata": {
    "kernelspec": {
      "display_name": "Python 3 (ipykernel)",
      "language": "python",
      "name": "python3"
    },
    "language_info": {
      "codemirror_mode": {
        "name": "ipython",
        "version": 3
      },
      "file_extension": ".py",
      "mimetype": "text/x-python",
      "name": "python",
      "nbconvert_exporter": "python",
      "pygments_lexer": "ipython3",
      "version": "3.10.12"
    },
    "colab": {
      "provenance": []
    }
  },
  "nbformat": 4,
  "nbformat_minor": 0
}